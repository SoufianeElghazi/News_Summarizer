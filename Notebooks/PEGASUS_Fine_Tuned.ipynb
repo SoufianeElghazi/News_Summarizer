{
 "cells": [
  {
   "cell_type": "markdown",
   "metadata": {},
   "source": [
    "<div style=\"background-color:olive; color:white; font-size:15px; font-family:Verdana; padding:10px;font-weight:bold;border: 5px solid black;\">\n",
    "<p style=\"color:orange;font-weight:bold\"><u>Réalisé par:</u></p>\n",
    "<ul >\n",
    "    <li>ELGHAZI Soufiane</li>\n",
    "</ul>\n",
    "    \n",
    "</div>"
   ]
  },
  {
   "cell_type": "markdown",
   "metadata": {},
   "source": [
    "<h1 style='color:purple' align='center'>Text mining: News Summarizer  </h1>"
   ]
  },
  {
   "cell_type": "markdown",
   "metadata": {},
   "source": [
    "<h2 style='color:olive' align='center'>PEGASUSE </h2>"
   ]
  },
  {
   "cell_type": "markdown",
   "metadata": {},
   "source": [
    "<div style=\"background-color:white; color:black; font-size:15px; font-family:Verdana; padding:10px;font-weight:bold;border: 5px solid black;\">\n",
    "<p style=\"color:purple;\">Étape 2 : Création et évaluation des modèles : PEGASUSE</p><br>\n",
    "<p style=\"color:purple;\">Références</p>\n",
    " Les liens vers les ressources utilisées et consulté .<br><br>\n",
    "</div>"
   ]
  },
  {
   "cell_type": "markdown",
   "metadata": {},
   "source": [
    "<h2 style='color:purple'>Importation des Bibliothèques: </h2>"
   ]
  },
  {
   "cell_type": "code",
   "execution_count": 3,
   "metadata": {
    "collapsed": true,
    "execution": {
     "iopub.execute_input": "2023-12-29T14:27:57.925006Z",
     "iopub.status.busy": "2023-12-29T14:27:57.924231Z",
     "iopub.status.idle": "2023-12-29T14:28:22.905338Z",
     "shell.execute_reply": "2023-12-29T14:28:22.904260Z",
     "shell.execute_reply.started": "2023-12-29T14:27:57.924969Z"
    },
    "jupyter": {
     "outputs_hidden": true
    }
   },
   "outputs": [
    {
     "name": "stdout",
     "output_type": "stream",
     "text": [
      "Requirement already satisfied: torch in /opt/conda/lib/python3.10/site-packages (2.0.0)\n",
      "Requirement already satisfied: filelock in /opt/conda/lib/python3.10/site-packages (from torch) (3.12.2)\n",
      "Requirement already satisfied: typing-extensions in /opt/conda/lib/python3.10/site-packages (from torch) (4.5.0)\n",
      "Requirement already satisfied: sympy in /opt/conda/lib/python3.10/site-packages (from torch) (1.12)\n",
      "Requirement already satisfied: networkx in /opt/conda/lib/python3.10/site-packages (from torch) (3.1)\n",
      "Requirement already satisfied: jinja2 in /opt/conda/lib/python3.10/site-packages (from torch) (3.1.2)\n",
      "Requirement already satisfied: MarkupSafe>=2.0 in /opt/conda/lib/python3.10/site-packages (from jinja2->torch) (2.1.3)\n",
      "Requirement already satisfied: mpmath>=0.19 in /opt/conda/lib/python3.10/site-packages (from sympy->torch) (1.3.0)\n",
      "Requirement already satisfied: transformers in /opt/conda/lib/python3.10/site-packages (4.36.0)\n",
      "Requirement already satisfied: filelock in /opt/conda/lib/python3.10/site-packages (from transformers) (3.12.2)\n",
      "Requirement already satisfied: huggingface-hub<1.0,>=0.19.3 in /opt/conda/lib/python3.10/site-packages (from transformers) (0.19.4)\n",
      "Requirement already satisfied: numpy>=1.17 in /opt/conda/lib/python3.10/site-packages (from transformers) (1.24.3)\n",
      "Requirement already satisfied: packaging>=20.0 in /opt/conda/lib/python3.10/site-packages (from transformers) (21.3)\n",
      "Requirement already satisfied: pyyaml>=5.1 in /opt/conda/lib/python3.10/site-packages (from transformers) (6.0.1)\n",
      "Requirement already satisfied: regex!=2019.12.17 in /opt/conda/lib/python3.10/site-packages (from transformers) (2023.8.8)\n",
      "Requirement already satisfied: requests in /opt/conda/lib/python3.10/site-packages (from transformers) (2.31.0)\n",
      "Requirement already satisfied: tokenizers<0.19,>=0.14 in /opt/conda/lib/python3.10/site-packages (from transformers) (0.15.0)\n",
      "Requirement already satisfied: safetensors>=0.3.1 in /opt/conda/lib/python3.10/site-packages (from transformers) (0.4.1)\n",
      "Requirement already satisfied: tqdm>=4.27 in /opt/conda/lib/python3.10/site-packages (from transformers) (4.66.1)\n",
      "Requirement already satisfied: fsspec>=2023.5.0 in /opt/conda/lib/python3.10/site-packages (from huggingface-hub<1.0,>=0.19.3->transformers) (2023.12.2)\n",
      "Requirement already satisfied: typing-extensions>=3.7.4.3 in /opt/conda/lib/python3.10/site-packages (from huggingface-hub<1.0,>=0.19.3->transformers) (4.5.0)\n",
      "Requirement already satisfied: pyparsing!=3.0.5,>=2.0.2 in /opt/conda/lib/python3.10/site-packages (from packaging>=20.0->transformers) (3.0.9)\n",
      "Requirement already satisfied: charset-normalizer<4,>=2 in /opt/conda/lib/python3.10/site-packages (from requests->transformers) (3.2.0)\n",
      "Requirement already satisfied: idna<4,>=2.5 in /opt/conda/lib/python3.10/site-packages (from requests->transformers) (3.4)\n",
      "Requirement already satisfied: urllib3<3,>=1.21.1 in /opt/conda/lib/python3.10/site-packages (from requests->transformers) (1.26.15)\n",
      "Requirement already satisfied: certifi>=2017.4.17 in /opt/conda/lib/python3.10/site-packages (from requests->transformers) (2023.11.17)\n"
     ]
    }
   ],
   "source": [
    "!pip install torch\n",
    "!pip install transformers"
   ]
  },
  {
   "cell_type": "code",
   "execution_count": 12,
   "metadata": {
    "execution": {
     "iopub.execute_input": "2023-12-30T01:02:59.667212Z",
     "iopub.status.busy": "2023-12-30T01:02:59.666822Z",
     "iopub.status.idle": "2023-12-30T01:02:59.672019Z",
     "shell.execute_reply": "2023-12-30T01:02:59.671072Z",
     "shell.execute_reply.started": "2023-12-30T01:02:59.667183Z"
    }
   },
   "outputs": [],
   "source": [
    "import pandas as pd\n",
    "from sklearn.model_selection import train_test_split\n",
    "from transformers import PegasusForConditionalGeneration, PegasusTokenizer, Trainer, TrainingArguments\n",
    "import torch"
   ]
  },
  {
   "cell_type": "markdown",
   "metadata": {},
   "source": [
    "<div style=\"background-color:olive; color:white; font-size:15px; font-family:Verdana; padding:10px;font-weight:bold;border: 5px solid black;text-align:center\">\n",
    "1. Chargement des Données:\n",
    "</div>"
   ]
  },
  {
   "cell_type": "code",
   "execution_count": 11,
   "metadata": {
    "execution": {
     "iopub.execute_input": "2023-12-30T01:02:45.548227Z",
     "iopub.status.busy": "2023-12-30T01:02:45.547567Z",
     "iopub.status.idle": "2023-12-30T01:02:45.839353Z",
     "shell.execute_reply": "2023-12-30T01:02:45.838487Z",
     "shell.execute_reply.started": "2023-12-30T01:02:45.548193Z"
    }
   },
   "outputs": [
    {
     "data": {
      "text/html": [
       "<div>\n",
       "<style scoped>\n",
       "    .dataframe tbody tr th:only-of-type {\n",
       "        vertical-align: middle;\n",
       "    }\n",
       "\n",
       "    .dataframe tbody tr th {\n",
       "        vertical-align: top;\n",
       "    }\n",
       "\n",
       "    .dataframe thead th {\n",
       "        text-align: right;\n",
       "    }\n",
       "</style>\n",
       "<table border=\"1\" class=\"dataframe\">\n",
       "  <thead>\n",
       "    <tr style=\"text-align: right;\">\n",
       "      <th></th>\n",
       "      <th>Summary</th>\n",
       "      <th>Content</th>\n",
       "    </tr>\n",
       "  </thead>\n",
       "  <tbody>\n",
       "    <tr>\n",
       "      <th>0</th>\n",
       "      <td>it s heartbreaking. initial surveys indicated...</td>\n",
       "      <td>severe storms and at least one tornado slammed...</td>\n",
       "    </tr>\n",
       "    <tr>\n",
       "      <th>1</th>\n",
       "      <td>by the time the tornado siren sounded one week...</td>\n",
       "      <td>by the time the tornado siren sounded one week...</td>\n",
       "    </tr>\n",
       "    <tr>\n",
       "      <th>2</th>\n",
       "      <td>it s heartbreaking. initial surveys indicated...</td>\n",
       "      <td>severe storms and at least one tornado slammed...</td>\n",
       "    </tr>\n",
       "    <tr>\n",
       "      <th>3</th>\n",
       "      <td>the storm dumped 4 inches of rain over much of...</td>\n",
       "      <td>a powerful storm that s been slamming the nort...</td>\n",
       "    </tr>\n",
       "    <tr>\n",
       "      <th>4</th>\n",
       "      <td>how relevant is this ad to you video player wa...</td>\n",
       "      <td>1 how relevant is this ad to you video player ...</td>\n",
       "    </tr>\n",
       "    <tr>\n",
       "      <th>...</th>\n",
       "      <td>...</td>\n",
       "      <td>...</td>\n",
       "    </tr>\n",
       "    <tr>\n",
       "      <th>1888</th>\n",
       "      <td>lucy copland 27 from lincolnshire was worried ...</td>\n",
       "      <td>by kelly strange published 08:10 est 29 may 20...</td>\n",
       "    </tr>\n",
       "    <tr>\n",
       "      <th>1889</th>\n",
       "      <td>english heritage bestow grade ii listing on im...</td>\n",
       "      <td>by harriet arkell wartime bunker used by winst...</td>\n",
       "    </tr>\n",
       "    <tr>\n",
       "      <th>1890</th>\n",
       "      <td>the nobel prize was awarded to carlos saavedra...</td>\n",
       "      <td>by sam creighton nobel peace prize has sold fo...</td>\n",
       "    </tr>\n",
       "    <tr>\n",
       "      <th>1891</th>\n",
       "      <td>bronwyn calver was cycling when kangaroo leape...</td>\n",
       "      <td>a cyclist has suffered freak accident after be...</td>\n",
       "    </tr>\n",
       "    <tr>\n",
       "      <th>1892</th>\n",
       "      <td>dane pollard 34 was diagnosed with cystic fibr...</td>\n",
       "      <td>by emma innes cystic fibrosis patient has marr...</td>\n",
       "    </tr>\n",
       "  </tbody>\n",
       "</table>\n",
       "<p>1893 rows × 2 columns</p>\n",
       "</div>"
      ],
      "text/plain": [
       "                                                Summary  \\\n",
       "0      it s heartbreaking. initial surveys indicated...   \n",
       "1     by the time the tornado siren sounded one week...   \n",
       "2      it s heartbreaking. initial surveys indicated...   \n",
       "3     the storm dumped 4 inches of rain over much of...   \n",
       "4     how relevant is this ad to you video player wa...   \n",
       "...                                                 ...   \n",
       "1888  lucy copland 27 from lincolnshire was worried ...   \n",
       "1889  english heritage bestow grade ii listing on im...   \n",
       "1890  the nobel prize was awarded to carlos saavedra...   \n",
       "1891  bronwyn calver was cycling when kangaroo leape...   \n",
       "1892  dane pollard 34 was diagnosed with cystic fibr...   \n",
       "\n",
       "                                                Content  \n",
       "0     severe storms and at least one tornado slammed...  \n",
       "1     by the time the tornado siren sounded one week...  \n",
       "2     severe storms and at least one tornado slammed...  \n",
       "3     a powerful storm that s been slamming the nort...  \n",
       "4     1 how relevant is this ad to you video player ...  \n",
       "...                                                 ...  \n",
       "1888  by kelly strange published 08:10 est 29 may 20...  \n",
       "1889  by harriet arkell wartime bunker used by winst...  \n",
       "1890  by sam creighton nobel peace prize has sold fo...  \n",
       "1891  a cyclist has suffered freak accident after be...  \n",
       "1892  by emma innes cystic fibrosis patient has marr...  \n",
       "\n",
       "[1893 rows x 2 columns]"
      ]
     },
     "execution_count": 11,
     "metadata": {},
     "output_type": "execute_result"
    }
   ],
   "source": [
    "df = pd.read_excel('../Data/Final_Data/corpus.xlsx')\n",
    "df.columns = ['Summary','Content'] #.iloc[:100]\n",
    "df"
   ]
  },
  {
   "cell_type": "markdown",
   "metadata": {},
   "source": [
    "<div style=\"background-color:olive; color:white; font-size:15px; font-family:Verdana; padding:10px;font-weight:bold;border: 5px solid black;text-align:center\">\n",
    "2. Division des Données :\n",
    "</div>"
   ]
  },
  {
   "cell_type": "code",
   "execution_count": 13,
   "metadata": {
    "execution": {
     "iopub.execute_input": "2023-12-30T01:03:03.586780Z",
     "iopub.status.busy": "2023-12-30T01:03:03.586414Z",
     "iopub.status.idle": "2023-12-30T01:03:03.594552Z",
     "shell.execute_reply": "2023-12-30T01:03:03.593656Z",
     "shell.execute_reply.started": "2023-12-30T01:03:03.586751Z"
    }
   },
   "outputs": [],
   "source": [
    "# Split the dataset into training and validation sets\n",
    "train_df, val_df = train_test_split(df, test_size=0.2, random_state=42)"
   ]
  },
  {
   "cell_type": "markdown",
   "metadata": {},
   "source": [
    "<div style=\"background-color:white; color:black; font-size:15px; font-family:Verdana; padding:10px;font-weight:bold;border: 5px solid black;text-align:center\">\n",
    "Tokenisation avec PEGASUS :\n",
    "</div>"
   ]
  },
  {
   "cell_type": "code",
   "execution_count": 14,
   "metadata": {
    "execution": {
     "iopub.execute_input": "2023-12-30T01:03:06.734844Z",
     "iopub.status.busy": "2023-12-30T01:03:06.734480Z",
     "iopub.status.idle": "2023-12-30T01:03:08.635013Z",
     "shell.execute_reply": "2023-12-30T01:03:08.634230Z",
     "shell.execute_reply.started": "2023-12-30T01:03:06.734813Z"
    }
   },
   "outputs": [
    {
     "data": {
      "application/vnd.jupyter.widget-view+json": {
       "model_id": "3453ff686ed542739441844ba43e58c6",
       "version_major": 2,
       "version_minor": 0
      },
      "text/plain": [
       "tokenizer_config.json:   0%|          | 0.00/88.0 [00:00<?, ?B/s]"
      ]
     },
     "metadata": {},
     "output_type": "display_data"
    },
    {
     "data": {
      "application/vnd.jupyter.widget-view+json": {
       "model_id": "f8892bc9667f4d22bfd2bc470c0afe9a",
       "version_major": 2,
       "version_minor": 0
      },
      "text/plain": [
       "spiece.model:   0%|          | 0.00/1.91M [00:00<?, ?B/s]"
      ]
     },
     "metadata": {},
     "output_type": "display_data"
    },
    {
     "data": {
      "application/vnd.jupyter.widget-view+json": {
       "model_id": "98b6e5191c614dce869c2a39461235e7",
       "version_major": 2,
       "version_minor": 0
      },
      "text/plain": [
       "special_tokens_map.json:   0%|          | 0.00/65.0 [00:00<?, ?B/s]"
      ]
     },
     "metadata": {},
     "output_type": "display_data"
    },
    {
     "data": {
      "application/vnd.jupyter.widget-view+json": {
       "model_id": "231246b6997e42dd8ce8b58a171f7aa4",
       "version_major": 2,
       "version_minor": 0
      },
      "text/plain": [
       "config.json:   0%|          | 0.00/3.09k [00:00<?, ?B/s]"
      ]
     },
     "metadata": {},
     "output_type": "display_data"
    }
   ],
   "source": [
    "# Initialize the PEGASUS tokenizer\n",
    "tokenizer = PegasusTokenizer.from_pretrained('google/pegasus-large')"
   ]
  },
  {
   "cell_type": "markdown",
   "metadata": {},
   "source": [
    "> ### - Tokenise les données d'entraînement et de validation pour le contenu et les résumés."
   ]
  },
  {
   "cell_type": "code",
   "execution_count": 15,
   "metadata": {
    "execution": {
     "iopub.execute_input": "2023-12-30T01:03:14.129360Z",
     "iopub.status.busy": "2023-12-30T01:03:14.128973Z",
     "iopub.status.idle": "2023-12-30T01:03:24.496775Z",
     "shell.execute_reply": "2023-12-30T01:03:24.495791Z",
     "shell.execute_reply.started": "2023-12-30T01:03:14.129307Z"
    }
   },
   "outputs": [],
   "source": [
    "# Tokenize the training data\n",
    "train_content = list(train_df['Content'])\n",
    "train_summary = list(train_df['Summary'])\n",
    "\n",
    "# Ensure the content is in string format\n",
    "train_content = [str(content) for content in train_content]\n",
    "\n",
    "train_data = tokenizer(\n",
    "    train_content,\n",
    "    truncation=True,\n",
    "    padding=True,\n",
    "    max_length=1000,\n",
    "    return_tensors='pt',\n",
    "    verbose=True\n",
    ")\n",
    "\n",
    "train_summary_data = tokenizer(\n",
    "    train_summary,\n",
    "    truncation=True,\n",
    "    padding=True,\n",
    "    max_length=200,  # Adjust the max_length as needed for summaries\n",
    "    return_tensors='pt',\n",
    "    verbose=True\n",
    ")"
   ]
  },
  {
   "cell_type": "code",
   "execution_count": 16,
   "metadata": {
    "execution": {
     "iopub.execute_input": "2023-12-30T01:03:32.927531Z",
     "iopub.status.busy": "2023-12-30T01:03:32.927071Z",
     "iopub.status.idle": "2023-12-30T01:03:35.396118Z",
     "shell.execute_reply": "2023-12-30T01:03:35.395179Z",
     "shell.execute_reply.started": "2023-12-30T01:03:32.927498Z"
    }
   },
   "outputs": [],
   "source": [
    "# Tokenize the validation data\n",
    "val_content = list(val_df['Content'])\n",
    "val_summary = list(val_df['Summary'])\n",
    "\n",
    "# Ensure the content is in string format\n",
    "val_content = [str(content) for content in val_content]\n",
    "\n",
    "val_data = tokenizer(\n",
    "    val_content,\n",
    "    truncation=True,\n",
    "    padding=True,\n",
    "    max_length=1000,\n",
    "    return_tensors='pt',\n",
    "    verbose=True\n",
    ")\n",
    "\n",
    "val_summary_data = tokenizer(\n",
    "    val_summary,\n",
    "    truncation=True,\n",
    "    padding=True,\n",
    "    max_length=200,  # Adjust the max_length as needed for summaries\n",
    "    return_tensors='pt',\n",
    "    verbose=True\n",
    ")"
   ]
  },
  {
   "cell_type": "markdown",
   "metadata": {},
   "source": [
    "<div style=\"background-color:olive; color:white; font-size:15px; font-family:Verdana; padding:10px;font-weight:bold;border: 5px solid black;text-align:center\">\n",
    "3. Classe de Dataset Personnalisée :\n",
    "</div>"
   ]
  },
  {
   "cell_type": "markdown",
   "metadata": {},
   "source": [
    "<div style=\"background-color:white; color:black; font-size:15px; font-family:Verdana; padding:10px;font-weight:bold;border: 5px solid black;text-align:center\">\n",
    "Définit une classe de dataset personnalisée pour gérer les données tokenisées et les labels.\n",
    "</div>"
   ]
  },
  {
   "cell_type": "code",
   "execution_count": 17,
   "metadata": {
    "execution": {
     "iopub.execute_input": "2023-12-30T01:05:09.270230Z",
     "iopub.status.busy": "2023-12-30T01:05:09.269522Z",
     "iopub.status.idle": "2023-12-30T01:05:09.278029Z",
     "shell.execute_reply": "2023-12-30T01:05:09.277076Z",
     "shell.execute_reply.started": "2023-12-30T01:05:09.270197Z"
    }
   },
   "outputs": [],
   "source": [
    "from torch.utils.data import DataLoader, Dataset\n",
    "\n",
    "class CustomDataset(Dataset):\n",
    "    def __init__(self, encodings, labels):\n",
    "        self.encodings = encodings\n",
    "        self.labels = labels\n",
    "\n",
    "    def __getitem__(self, idx):\n",
    "        item = {key: torch.tensor(val[idx]) for key, val in self.encodings.items()}\n",
    "        item['labels'] = torch.tensor(self.labels['input_ids'][idx])  # Assuming 'labels' is the key for summary input_ids\n",
    "        return item\n",
    "\n",
    "    def __len__(self):\n",
    "        return len(self.encodings['input_ids'])\n"
   ]
  },
  {
   "cell_type": "markdown",
   "metadata": {},
   "source": [
    "<div style=\"background-color:olive; color:white; font-size:15px; font-family:Verdana; padding:10px;font-weight:bold;border: 5px solid black;text-align:center\">\n",
    "4. Création d'Instances de Dataset :\n",
    "</div>"
   ]
  },
  {
   "cell_type": "markdown",
   "metadata": {},
   "source": [
    "<div style=\"background-color:white; color:black; font-size:15px; font-family:Verdana; padding:10px;font-weight:bold;border: 5px solid black;text-align:center\">\n",
    "Création des instances du dataset personnalisé pour les ensembles d'entraînement et de validation\n",
    "</div>"
   ]
  },
  {
   "cell_type": "code",
   "execution_count": null,
   "metadata": {},
   "outputs": [],
   "source": [
    "# Create CustomDataset instances for both training and validation\n",
    "train_dataset = CustomDataset(train_data, train_summary_data)\n",
    "val_dataset = CustomDataset(val_data, val_summary_data)"
   ]
  },
  {
   "cell_type": "markdown",
   "metadata": {},
   "source": [
    "<div style=\"background-color:olive; color:white; font-size:15px; font-family:Verdana; padding:10px;font-weight:bold;border: 5px solid black;text-align:center\">\n",
    "5. Data Loaders :\n",
    "</div>"
   ]
  },
  {
   "cell_type": "markdown",
   "metadata": {},
   "source": [
    "<div style=\"background-color:white; color:black; font-size:15px; font-family:Verdana; padding:10px;font-weight:bold;border: 5px solid black;text-align:center\">\n",
    "Création des instances DataLoader pour le chargement efficace des lots pendant l'entraînement et la validation.\n",
    "</div>"
   ]
  },
  {
   "cell_type": "code",
   "execution_count": null,
   "metadata": {},
   "outputs": [],
   "source": [
    "# Create DataLoader instances\n",
    "train_loader = DataLoader(train_dataset, batch_size=2, shuffle=True)\n",
    "val_loader = DataLoader(val_dataset, batch_size=2, shuffle=False)"
   ]
  },
  {
   "cell_type": "markdown",
   "metadata": {},
   "source": [
    "<div style=\"background-color:olive; color:white; font-size:15px; font-family:Verdana; padding:10px;font-weight:bold;border: 5px solid black;text-align:center\">\n",
    "6. Initialisation du Modèle :\n",
    "</div>"
   ]
  },
  {
   "cell_type": "markdown",
   "metadata": {},
   "source": [
    "<div style=\"background-color:white; color:black; font-size:15px; font-family:Verdana; padding:10px;font-weight:bold;border: 5px solid black;text-align:center\">\n",
    "Initialise le modèle PEGASUS pour la génération conditionnelle.\n",
    "</div>"
   ]
  },
  {
   "cell_type": "code",
   "execution_count": null,
   "metadata": {},
   "outputs": [],
   "source": [
    "model = PegasusForConditionalGeneration.from_pretrained('google/pegasus-large')"
   ]
  },
  {
   "cell_type": "markdown",
   "metadata": {},
   "source": [
    "<div style=\"background-color:olive; color:white; font-size:15px; font-family:Verdana; padding:10px;font-weight:bold;border: 5px solid black;text-align:center\">\n",
    "7. Configuration de l'Entraînement :\n",
    "</div>"
   ]
  },
  {
   "cell_type": "markdown",
   "metadata": {},
   "source": [
    "<div style=\"background-color:white; color:black; font-size:15px; font-family:Verdana; padding:10px;font-weight:bold;border: 5px solid black;text-align:center\">\n",
    "Configuration des paramètres d'entraînement tels que le répertoire de sortie, la taille du lot, le nombre d'époques, etc.\n",
    "</div>"
   ]
  },
  {
   "cell_type": "code",
   "execution_count": 18,
   "metadata": {
    "execution": {
     "iopub.execute_input": "2023-12-30T01:05:26.521375Z",
     "iopub.status.busy": "2023-12-30T01:05:26.520964Z",
     "iopub.status.idle": "2023-12-30T01:05:49.638947Z",
     "shell.execute_reply": "2023-12-30T01:05:49.638207Z",
     "shell.execute_reply.started": "2023-12-30T01:05:26.521345Z"
    }
   },
   "outputs": [
    {
     "data": {
      "application/vnd.jupyter.widget-view+json": {
       "model_id": "7793f0a29ae6468e8064934663070a9b",
       "version_major": 2,
       "version_minor": 0
      },
      "text/plain": [
       "pytorch_model.bin:   0%|          | 0.00/2.28G [00:00<?, ?B/s]"
      ]
     },
     "metadata": {},
     "output_type": "display_data"
    },
    {
     "name": "stderr",
     "output_type": "stream",
     "text": [
      "Some weights of PegasusForConditionalGeneration were not initialized from the model checkpoint at google/pegasus-large and are newly initialized: ['model.decoder.embed_positions.weight', 'model.encoder.embed_positions.weight']\n",
      "You should probably TRAIN this model on a down-stream task to be able to use it for predictions and inference.\n"
     ]
    },
    {
     "data": {
      "application/vnd.jupyter.widget-view+json": {
       "model_id": "ae4348f23d19427b938fa73845df4904",
       "version_major": 2,
       "version_minor": 0
      },
      "text/plain": [
       "generation_config.json:   0%|          | 0.00/260 [00:00<?, ?B/s]"
      ]
     },
     "metadata": {},
     "output_type": "display_data"
    }
   ],
   "source": [
    "training_args = TrainingArguments(\n",
    "    output_dir='./results',\n",
    "    per_device_train_batch_size=1,\n",
    "    per_device_eval_batch_size=1,\n",
    "    num_train_epochs=3,\n",
    "    save_steps=10_000,\n",
    "    save_total_limit=2,\n",
    ")"
   ]
  },
  {
   "cell_type": "markdown",
   "metadata": {},
   "source": [
    "<div style=\"background-color:olive; color:white; font-size:15px; font-family:Verdana; padding:10px;font-weight:bold;border: 5px solid black;text-align:center\">\n",
    "8.  Initialisation du Trainer :\n",
    "</div>"
   ]
  },
  {
   "cell_type": "markdown",
   "metadata": {},
   "source": [
    "<div style=\"background-color:white; color:black; font-size:15px; font-family:Verdana; padding:10px;font-weight:bold;border: 5px solid black;text-align:center\">\n",
    "Initialise le Trainer avec le modèle, les arguments d'entraînement et les datasets</div>"
   ]
  },
  {
   "cell_type": "code",
   "execution_count": null,
   "metadata": {},
   "outputs": [],
   "source": [
    "trainer = Trainer(\n",
    "    model=model,\n",
    "    args=training_args,\n",
    "    train_dataset=train_dataset,\n",
    "    eval_dataset=val_dataset,\n",
    ")"
   ]
  },
  {
   "cell_type": "markdown",
   "metadata": {},
   "source": [
    "<div style=\"background-color:olive; color:white; font-size:15px; font-family:Verdana; padding:10px;font-weight:bold;border: 5px solid black;text-align:center\">\n",
    "7.Modèle et Données sur le GPU :\n",
    "</div>"
   ]
  },
  {
   "cell_type": "markdown",
   "metadata": {},
   "source": [
    "<div style=\"background-color:white; color:black; font-size:15px; font-family:Verdana; padding:10px;font-weight:bold;border: 5px solid black;text-align:center\">\n",
    "Vérification de la disponibilité du GPU et déplace le modèle sur le GPU s'il est disponible.</div>"
   ]
  },
  {
   "cell_type": "code",
   "execution_count": 14,
   "metadata": {
    "execution": {
     "iopub.execute_input": "2023-12-29T15:51:37.416382Z",
     "iopub.status.busy": "2023-12-29T15:51:37.415488Z",
     "iopub.status.idle": "2023-12-29T15:51:37.436980Z",
     "shell.execute_reply": "2023-12-29T15:51:37.435734Z",
     "shell.execute_reply.started": "2023-12-29T15:51:37.416346Z"
    },
    "scrolled": true
   },
   "outputs": [
    {
     "data": {
      "text/plain": [
       "PegasusForConditionalGeneration(\n",
       "  (model): PegasusModel(\n",
       "    (shared): Embedding(96103, 1024, padding_idx=0)\n",
       "    (encoder): PegasusEncoder(\n",
       "      (embed_tokens): Embedding(96103, 1024, padding_idx=0)\n",
       "      (embed_positions): PegasusSinusoidalPositionalEmbedding(1024, 1024)\n",
       "      (layers): ModuleList(\n",
       "        (0-15): 16 x PegasusEncoderLayer(\n",
       "          (self_attn): PegasusAttention(\n",
       "            (k_proj): Linear(in_features=1024, out_features=1024, bias=True)\n",
       "            (v_proj): Linear(in_features=1024, out_features=1024, bias=True)\n",
       "            (q_proj): Linear(in_features=1024, out_features=1024, bias=True)\n",
       "            (out_proj): Linear(in_features=1024, out_features=1024, bias=True)\n",
       "          )\n",
       "          (self_attn_layer_norm): LayerNorm((1024,), eps=1e-05, elementwise_affine=True)\n",
       "          (activation_fn): ReLU()\n",
       "          (fc1): Linear(in_features=1024, out_features=4096, bias=True)\n",
       "          (fc2): Linear(in_features=4096, out_features=1024, bias=True)\n",
       "          (final_layer_norm): LayerNorm((1024,), eps=1e-05, elementwise_affine=True)\n",
       "        )\n",
       "      )\n",
       "      (layer_norm): LayerNorm((1024,), eps=1e-05, elementwise_affine=True)\n",
       "    )\n",
       "    (decoder): PegasusDecoder(\n",
       "      (embed_tokens): Embedding(96103, 1024, padding_idx=0)\n",
       "      (embed_positions): PegasusSinusoidalPositionalEmbedding(1024, 1024)\n",
       "      (layers): ModuleList(\n",
       "        (0-15): 16 x PegasusDecoderLayer(\n",
       "          (self_attn): PegasusAttention(\n",
       "            (k_proj): Linear(in_features=1024, out_features=1024, bias=True)\n",
       "            (v_proj): Linear(in_features=1024, out_features=1024, bias=True)\n",
       "            (q_proj): Linear(in_features=1024, out_features=1024, bias=True)\n",
       "            (out_proj): Linear(in_features=1024, out_features=1024, bias=True)\n",
       "          )\n",
       "          (activation_fn): ReLU()\n",
       "          (self_attn_layer_norm): LayerNorm((1024,), eps=1e-05, elementwise_affine=True)\n",
       "          (encoder_attn): PegasusAttention(\n",
       "            (k_proj): Linear(in_features=1024, out_features=1024, bias=True)\n",
       "            (v_proj): Linear(in_features=1024, out_features=1024, bias=True)\n",
       "            (q_proj): Linear(in_features=1024, out_features=1024, bias=True)\n",
       "            (out_proj): Linear(in_features=1024, out_features=1024, bias=True)\n",
       "          )\n",
       "          (encoder_attn_layer_norm): LayerNorm((1024,), eps=1e-05, elementwise_affine=True)\n",
       "          (fc1): Linear(in_features=1024, out_features=4096, bias=True)\n",
       "          (fc2): Linear(in_features=4096, out_features=1024, bias=True)\n",
       "          (final_layer_norm): LayerNorm((1024,), eps=1e-05, elementwise_affine=True)\n",
       "        )\n",
       "      )\n",
       "      (layer_norm): LayerNorm((1024,), eps=1e-05, elementwise_affine=True)\n",
       "    )\n",
       "  )\n",
       "  (lm_head): Linear(in_features=1024, out_features=96103, bias=False)\n",
       ")"
      ]
     },
     "execution_count": 14,
     "metadata": {},
     "output_type": "execute_result"
    }
   ],
   "source": [
    "device = torch.device(\"cuda\" if torch.cuda.is_available() else \"cpu\")\n",
    "\n",
    "# Move your model and data to the GPU\n",
    "model.to(device)"
   ]
  },
  {
   "cell_type": "markdown",
   "metadata": {},
   "source": [
    "<div style=\"background-color:olive; color:white; font-size:15px; font-family:Verdana; padding:10px;font-weight:bold;border: 5px solid black;text-align:center\">\n",
    " 8.Entraînement :\n",
    "</div>"
   ]
  },
  {
   "cell_type": "markdown",
   "metadata": {},
   "source": [
    "<div style=\"background-color:white; color:black; font-size:15px; font-family:Verdana; padding:10px;font-weight:bold;border: 5px solid black;text-align:center\">\n",
    "Lancement le processus d'entraînement et stocke l'historique de l'entraînement dans la variable history.</div>"
   ]
  },
  {
   "cell_type": "code",
   "execution_count": 19,
   "metadata": {
    "execution": {
     "iopub.execute_input": "2023-12-30T01:06:46.977262Z",
     "iopub.status.busy": "2023-12-30T01:06:46.976871Z",
     "iopub.status.idle": "2023-12-30T01:48:44.348254Z",
     "shell.execute_reply": "2023-12-30T01:48:44.347221Z",
     "shell.execute_reply.started": "2023-12-30T01:06:46.977233Z"
    },
    "scrolled": true
   },
   "outputs": [
    {
     "name": "stderr",
     "output_type": "stream",
     "text": [
      "\u001b[34m\u001b[1mwandb\u001b[0m: Logging into wandb.ai. (Learn how to deploy a W&B server locally: https://wandb.me/wandb-server)\n",
      "\u001b[34m\u001b[1mwandb\u001b[0m: You can find your API key in your browser here: https://wandb.ai/authorize\n",
      "\u001b[34m\u001b[1mwandb\u001b[0m: Paste an API key from your profile and hit enter, or press ctrl+c to quit:"
     ]
    },
    {
     "name": "stdin",
     "output_type": "stream",
     "text": [
      "  ········································\n"
     ]
    },
    {
     "name": "stderr",
     "output_type": "stream",
     "text": [
      "\u001b[34m\u001b[1mwandb\u001b[0m: Appending key for api.wandb.ai to your netrc file: /root/.netrc\n"
     ]
    },
    {
     "data": {
      "text/html": [
       "Tracking run with wandb version 0.16.1"
      ],
      "text/plain": [
       "<IPython.core.display.HTML object>"
      ]
     },
     "metadata": {},
     "output_type": "display_data"
    },
    {
     "data": {
      "text/html": [
       "Run data is saved locally in <code>/kaggle/working/wandb/run-20231230_010656-ezwo4zlp</code>"
      ],
      "text/plain": [
       "<IPython.core.display.HTML object>"
      ]
     },
     "metadata": {},
     "output_type": "display_data"
    },
    {
     "data": {
      "text/html": [
       "Syncing run <strong><a href='https://wandb.ai/team_text_summarization/huggingface/runs/ezwo4zlp' target=\"_blank\">wild-shadow-4</a></strong> to <a href='https://wandb.ai/team_text_summarization/huggingface' target=\"_blank\">Weights & Biases</a> (<a href='https://wandb.me/run' target=\"_blank\">docs</a>)<br/>"
      ],
      "text/plain": [
       "<IPython.core.display.HTML object>"
      ]
     },
     "metadata": {},
     "output_type": "display_data"
    },
    {
     "data": {
      "text/html": [
       " View project at <a href='https://wandb.ai/team_text_summarization/huggingface' target=\"_blank\">https://wandb.ai/team_text_summarization/huggingface</a>"
      ],
      "text/plain": [
       "<IPython.core.display.HTML object>"
      ]
     },
     "metadata": {},
     "output_type": "display_data"
    },
    {
     "data": {
      "text/html": [
       " View run at <a href='https://wandb.ai/team_text_summarization/huggingface/runs/ezwo4zlp' target=\"_blank\">https://wandb.ai/team_text_summarization/huggingface/runs/ezwo4zlp</a>"
      ],
      "text/plain": [
       "<IPython.core.display.HTML object>"
      ]
     },
     "metadata": {},
     "output_type": "display_data"
    },
    {
     "name": "stderr",
     "output_type": "stream",
     "text": [
      "/tmp/ipykernel_42/21769689.py:9: UserWarning: To copy construct from a tensor, it is recommended to use sourceTensor.clone().detach() or sourceTensor.clone().detach().requires_grad_(True), rather than torch.tensor(sourceTensor).\n",
      "  item = {key: torch.tensor(val[idx]) for key, val in self.encodings.items()}\n",
      "/tmp/ipykernel_42/21769689.py:10: UserWarning: To copy construct from a tensor, it is recommended to use sourceTensor.clone().detach() or sourceTensor.clone().detach().requires_grad_(True), rather than torch.tensor(sourceTensor).\n",
      "  item['labels'] = torch.tensor(self.labels['input_ids'][idx])  # Assuming 'labels' is the key for summary input_ids\n"
     ]
    },
    {
     "data": {
      "text/html": [
       "\n",
       "    <div>\n",
       "      \n",
       "      <progress value='4542' max='4542' style='width:300px; height:20px; vertical-align: middle;'></progress>\n",
       "      [4542/4542 41:14, Epoch 3/3]\n",
       "    </div>\n",
       "    <table border=\"1\" class=\"dataframe\">\n",
       "  <thead>\n",
       " <tr style=\"text-align: left;\">\n",
       "      <th>Step</th>\n",
       "      <th>Training Loss</th>\n",
       "    </tr>\n",
       "  </thead>\n",
       "  <tbody>\n",
       "    <tr>\n",
       "      <td>500</td>\n",
       "      <td>3.673700</td>\n",
       "    </tr>\n",
       "    <tr>\n",
       "      <td>1000</td>\n",
       "      <td>0.541400</td>\n",
       "    </tr>\n",
       "    <tr>\n",
       "      <td>1500</td>\n",
       "      <td>0.508500</td>\n",
       "    </tr>\n",
       "    <tr>\n",
       "      <td>2000</td>\n",
       "      <td>0.455100</td>\n",
       "    </tr>\n",
       "    <tr>\n",
       "      <td>2500</td>\n",
       "      <td>0.460000</td>\n",
       "    </tr>\n",
       "    <tr>\n",
       "      <td>3000</td>\n",
       "      <td>0.398600</td>\n",
       "    </tr>\n",
       "    <tr>\n",
       "      <td>3500</td>\n",
       "      <td>0.412900</td>\n",
       "    </tr>\n",
       "    <tr>\n",
       "      <td>4000</td>\n",
       "      <td>0.380600</td>\n",
       "    </tr>\n",
       "    <tr>\n",
       "      <td>4500</td>\n",
       "      <td>0.376300</td>\n",
       "    </tr>\n",
       "  </tbody>\n",
       "</table><p>"
      ],
      "text/plain": [
       "<IPython.core.display.HTML object>"
      ]
     },
     "metadata": {},
     "output_type": "display_data"
    },
    {
     "name": "stderr",
     "output_type": "stream",
     "text": [
      "/tmp/ipykernel_42/21769689.py:9: UserWarning: To copy construct from a tensor, it is recommended to use sourceTensor.clone().detach() or sourceTensor.clone().detach().requires_grad_(True), rather than torch.tensor(sourceTensor).\n",
      "  item = {key: torch.tensor(val[idx]) for key, val in self.encodings.items()}\n",
      "/tmp/ipykernel_42/21769689.py:10: UserWarning: To copy construct from a tensor, it is recommended to use sourceTensor.clone().detach() or sourceTensor.clone().detach().requires_grad_(True), rather than torch.tensor(sourceTensor).\n",
      "  item['labels'] = torch.tensor(self.labels['input_ids'][idx])  # Assuming 'labels' is the key for summary input_ids\n"
     ]
    }
   ],
   "source": [
    "history =  trainer.train()"
   ]
  },
  {
   "cell_type": "markdown",
   "metadata": {},
   "source": [
    "<div style=\"background-color:olive; color:white; font-size:15px; font-family:Verdana; padding:10px;font-weight:bold;border: 5px solid black;text-align:center\">\n",
    "9.Sauvegarde du Modèle Fine-Tuné :\n",
    "</div>"
   ]
  },
  {
   "cell_type": "code",
   "execution_count": 20,
   "metadata": {
    "execution": {
     "iopub.execute_input": "2023-12-30T01:51:43.297997Z",
     "iopub.status.busy": "2023-12-30T01:51:43.297578Z",
     "iopub.status.idle": "2023-12-30T01:51:48.350896Z",
     "shell.execute_reply": "2023-12-30T01:51:48.349815Z",
     "shell.execute_reply.started": "2023-12-30T01:51:43.297965Z"
    }
   },
   "outputs": [],
   "source": [
    "# Save the fine-tuned model\n",
    "model.save_pretrained('/kaggle/working/models/fine_tuned_pegasus1')"
   ]
  },
  {
   "cell_type": "markdown",
   "metadata": {},
   "source": [
    "<div style=\"background-color:olive; color:white; font-size:15px; font-family:Verdana; padding:10px;font-weight:bold;border: 5px solid black;text-align:center\">\n",
    "10. Évaluation du Modèle sur l'Ensemble de Validation :\n",
    "</div>"
   ]
  },
  {
   "cell_type": "code",
   "execution_count": 61,
   "metadata": {
    "execution": {
     "iopub.execute_input": "2023-12-30T03:03:29.391670Z",
     "iopub.status.busy": "2023-12-30T03:03:29.390904Z",
     "iopub.status.idle": "2023-12-30T03:04:22.545047Z",
     "shell.execute_reply": "2023-12-30T03:04:22.543840Z",
     "shell.execute_reply.started": "2023-12-30T03:03:29.391637Z"
    }
   },
   "outputs": [
    {
     "name": "stderr",
     "output_type": "stream",
     "text": [
      "/tmp/ipykernel_42/21769689.py:9: UserWarning: To copy construct from a tensor, it is recommended to use sourceTensor.clone().detach() or sourceTensor.clone().detach().requires_grad_(True), rather than torch.tensor(sourceTensor).\n",
      "  item = {key: torch.tensor(val[idx]) for key, val in self.encodings.items()}\n",
      "/tmp/ipykernel_42/21769689.py:10: UserWarning: To copy construct from a tensor, it is recommended to use sourceTensor.clone().detach() or sourceTensor.clone().detach().requires_grad_(True), rather than torch.tensor(sourceTensor).\n",
      "  item['labels'] = torch.tensor(self.labels['input_ids'][idx])  # Assuming 'labels' is the key for summary input_ids\n"
     ]
    },
    {
     "data": {
      "text/plain": [
       "{'eval_loss': 0.42184802889823914,\n",
       " 'eval_runtime': 53.1444,\n",
       " 'eval_samples_per_second': 7.132,\n",
       " 'eval_steps_per_second': 7.132,\n",
       " 'epoch': 3.0}"
      ]
     },
     "execution_count": 61,
     "metadata": {},
     "output_type": "execute_result"
    }
   ],
   "source": [
    "# Evaluate the model on the validation dataset\n",
    "results = trainer.evaluate()\n",
    "results"
   ]
  },
  {
   "cell_type": "code",
   "execution_count": 33,
   "metadata": {
    "execution": {
     "iopub.execute_input": "2023-12-30T02:09:19.383993Z",
     "iopub.status.busy": "2023-12-30T02:09:19.383589Z",
     "iopub.status.idle": "2023-12-30T02:10:38.658514Z",
     "shell.execute_reply": "2023-12-30T02:10:38.657391Z",
     "shell.execute_reply.started": "2023-12-30T02:09:19.383963Z"
    }
   },
   "outputs": [],
   "source": [
    "data = pd.read_csv('/kaggle/input/news-summarization/data.csv')"
   ]
  },
  {
   "cell_type": "code",
   "execution_count": 54,
   "metadata": {
    "execution": {
     "iopub.execute_input": "2023-12-30T02:42:35.769102Z",
     "iopub.status.busy": "2023-12-30T02:42:35.768193Z",
     "iopub.status.idle": "2023-12-30T02:42:35.777186Z",
     "shell.execute_reply": "2023-12-30T02:42:35.775334Z",
     "shell.execute_reply.started": "2023-12-30T02:42:35.769058Z"
    }
   },
   "outputs": [],
   "source": [
    "dt= data.iloc[:30]\n",
    "references = list(dt.Summary)\n",
    "contents = list(dt.Content)"
   ]
  },
  {
   "cell_type": "code",
   "execution_count": 55,
   "metadata": {
    "execution": {
     "iopub.execute_input": "2023-12-30T02:42:48.043555Z",
     "iopub.status.busy": "2023-12-30T02:42:48.043074Z",
     "iopub.status.idle": "2023-12-30T02:51:37.866785Z",
     "shell.execute_reply": "2023-12-30T02:51:37.864698Z",
     "shell.execute_reply.started": "2023-12-30T02:42:48.043520Z"
    },
    "jupyter": {
     "outputs_hidden": true
    }
   },
   "outputs": [
    {
     "data": {
      "text/plain": [
       "['New York police are concerned drones could become tools for terrorists, and are investigating ways to stop potential attacks.',\n",
       " 'Perhaps Australian porn star Angela White thought she was bringing the ultimate steamy study fantasy to life when she and a partner secretly filmed sex acts in the library of La Trobe University in Melbourne.',\n",
       " 'For Garcia and Rickie Fowler it made the final few holes of a dramatic third round here in Hoylake all the more torturous.',\n",
       " 'An Ebola outbreak that began in Guinea four months ago has turned into a cross-border African crisis that could spread to more countries.',\n",
       " 'Dunedin Deputy Fire Chief Trip Barrs said the hole appeared to be about 12-feet wide when officials arrived on the scene around 6am, but grew to 40-feet-wide and 30-feet-deep by 9am.',\n",
       " 'The attack this week should have also sent a clear message to both leaderships that if they will not take measures to calm the situation down, further escalation and worse violence is around the corner.',\n",
       " \"Zia Abdul Haq is believed to have been brainwashed by the preachings of Islamic extremist Musa Cerantonio two of Australia's most notorious jihadists Khaled Sharrouf and Mohamed Elomar are part of the same group.\",\n",
       " \"A mother whose premature twins died while she lay in a coma following a tragic ambulance mix-up has led the tributes at her daughters' funeral.\",\n",
       " 'Former magistrate Rahmat Ali Raja dishonestly claimed pension credits and council tax reductions for 10 years - despite having more than £102,000 across nine bank accounts.',\n",
       " '(CNN) -- Congress has moved to prevent money from the proposed $825 billion stimulus package from being used for zoos, aquariums, golf courses, swimming pools and casinos.',\n",
       " \"Here are 10 surprising facts you probably didn't know about Nelson Mandela:.\",\n",
       " \"Mourinho embraces Branislav Ivanovic after Chelsea's Premier League victory at Stamford Bridge. Mourinho embraces Branislav Ivanovic after Chelsea's Premier League victory at Stamford Bridge.\",\n",
       " \"From temples so gold they'll make your eyes water to food you'll be longing for days after it hits your lips, Punjab is India at its colorful, lively best.\",\n",
       " '(CNN) -- Three Delaware day care workers were arrested after police got hold of a \"disturbing\" and \"shocking\" cell phone video that, authorities say, shows two toddlers taking part in a fight the workers had organized.',\n",
       " 'Fixed Odds Betting Terminals allow users to spend up to £100 a go and are blamed for a rise in gambling.',\n",
       " 'Masha Alyokhina and Nadya Tolokonnikova opened their panel discussion at the Sydney Opera House by addressing a proposal made by Australian activists that the pair boycott the festival.',\n",
       " 'The 22-year-old spent the second half of last season on loan at Crystal Palace and has targeted a move back to the Premier League having rejected a possible move to Inter Milan.',\n",
       " 'Sir Cliff Richard had his privacy violated after a secret deal between police and the BBC to film a raid on his house.',\n",
       " 'Almost a quarter of the road accidents resulting in death or serious injury last year involved a driver under 24.',\n",
       " 'Pamela Smith filed the suit herself last month against Jordan and asked that the basketball hall of famer take a paternity test and pay child support. Smith filed the suit herself last month against Jordan and asked that the basketball hall of famer take a paternity test and pay child support.',\n",
       " 'Lindsay Lohan worked like crazy and completed 115 hours of community service in Brooklyn to meet her Thursday deadline and avoid jail Lindsay Lohan worked like crazy and completed 115 hours of community service in Brooklyn to meet her Thursday deadline and avoid jail Lindsay Lohan worked like crazy and completed 115 hours of community service in Brooklyn to meet her Thursday deadline and avoid jail Lindsay Lohan worked like crazy and completed 115 hours of community service in Brooklyn to meet her Thursday deadline and avoid jail Lindsay Lohan worked like crazy and completed 115 hours of community service in Brooklyn to meet her Thursday deadline and avoid jail Lindsay Lohan worked like crazy and completed 115 hours of community service in Brooklyn to meet her Thursday deadline and avoid jail Lindsay Lohan worked like crazy and completed 115 hours of community service in Brooklyn to meet her Thursday deadline and avoid jail Lindsay Lohan worked like crazy and completed 115 hours of community service in Brooklyn to meet her Thursday deadline and avoid jail Lindsay Lohan worked like crazy and completed 115 hours of community service in Brooklyn to meet her Thursday deadline and avoid jail Lindsay Lohan worked like crazy and completed 115 hours of community service in Brooklyn to meet her Thursday deadline and avoid jail Lindsay Lohan worked like crazy and completed 115 hours of community service in Brooklyn to meet her Thursday deadline and avoid jail Lindsay Lohan worked like crazy and completed 115 hours of community service',\n",
       " 'A man who bit a dog during an altercation outside a corner shop later ran inside and died from a suspected heart attack after being restrained.',\n",
       " 'New Jersey locals mourned the loss of actor James Gandolfini on Wednesday as the fictional hang-outs of his beloved character Tony Soprano were flooded with visitors paying their respects.',\n",
       " 'The London Fire Brigade cut its mental health team by almost half in the years before the Grenfell Tower fire.',\n",
       " 'Butcher played in the Ipswich team which won the cup final on aggregate after a 3-0 win at Portman Road followed by a 4-2 defeat in Holland Butcher has been part of charity cycling team which made 260-mile round trip to Holland to commemorate the victory Butcher played in the Ipswich team which won the cup final on aggregate after a 3-0 win at Portman Road followed by a 4-2 defeat in Holland Butcher has been part of charity cycling team which made 260-mile round trip to Holland to commemorate the victory Butcher played in the Ipswich team which won the cup final on aggregate after a 3-0 win at Portman Road followed by a 4-2 defeat in Holland Butcher has been part of charity cycling team which made 260-mile round trip to Holland to commemorate the victory Butcher played in the Ipswich team which won the cup final on aggregate after a 3-0 win at Portman Road followed by a 4-2 defeat in Holland Butcher has been part of charity cycling team which made 260-mile round trip to Holland to commemorate the victory Butcher has been part of charity cycling team which made 260-mile round trip to Holland to commemorate the victory Butcher played in the Ipswich team which won the cup final on aggregate after a 3-0 win at Portman Road followed by a 4-2 defeat in Holland Butcher has been part of charity cycling team which made 260-mile round',\n",
       " 'PARIS (AP) — European governments are paying al-Qaida in the Islamic Maghreb millions of dollars in ransom to secure the release of dozens of hostages held by the terror group in the Sahara desert, a senior French official has told The Associated Press.',\n",
       " \"The Cameroon Football Association (Fecafoot) has confirmed it's investigating allegations made in the German media that seven of its players were involved in match fixing during the group stages of the World Cup finals in Brazil.\",\n",
       " 'Roger Charlton is to run Al Kazeem in the Cumberland Lodge Stakes at Ascot a week on Saturday. Charlton, whose dual Group Three winning miler Captain Cat tries to win his first Group Two prize in the Joel Stakes at Newmarket on Friday, said: ‘The step up in trip and step down in class is just Al Kazeem needs.’ Al Kazeem will run in the Cumberland Lodge Stakes at Ascot a week on Saturday.',\n",
       " \"Protesters say the new HS2 project has been 'an abysmal business case and represents extremely poor value for hard pressed taxpayers' money.\",\n",
       " '(CNN) -- The Supreme Court tried mightily to wade through a cloud of bureaucratic regulations Monday over setting clear air standards, a high-stakes environmental and economic fight pitting the Obama administration against a coalition of states and utilities.']"
      ]
     },
     "execution_count": 55,
     "metadata": {},
     "output_type": "execute_result"
    }
   ],
   "source": [
    "predictions = []\n",
    "for cntnt in contents :\n",
    "    predictions.append(Summarizer(cntnt[:1000]))\n",
    "predictions"
   ]
  },
  {
   "cell_type": "markdown",
   "metadata": {},
   "source": [
    "<div style=\"background-color:olive; color:white; font-size:15px; font-family:Verdana; padding:10px;font-weight:bold;border: 5px solid black;text-align:center\">\n",
    "11 .Calcul des Scores BLEU et ROUGE :\n",
    "</div>"
   ]
  },
  {
   "cell_type": "code",
   "execution_count": 45,
   "metadata": {
    "execution": {
     "iopub.execute_input": "2023-12-30T02:34:25.402215Z",
     "iopub.status.busy": "2023-12-30T02:34:25.401180Z",
     "iopub.status.idle": "2023-12-30T02:34:28.389856Z",
     "shell.execute_reply": "2023-12-30T02:34:28.388722Z",
     "shell.execute_reply.started": "2023-12-30T02:34:25.402170Z"
    }
   },
   "outputs": [
    {
     "name": "stdout",
     "output_type": "stream",
     "text": [
      "BLEU Score: 0.5635279113885795\n"
     ]
    }
   ],
   "source": [
    "from nltk.translate import bleu_score\n",
    "from rouge_score import rouge_scorer\n",
    "\n",
    "bleu_score = bleu_score.corpus_bleu(references, predictions)\n",
    "print(\"BLEU Score:\", bleu_score)\n"
   ]
  },
  {
   "cell_type": "markdown",
   "metadata": {},
   "source": [
    "> ### - Calcule les scores ROUGE entre les prédictions et les références, puis affiche la moyenne des scores F1."
   ]
  },
  {
   "cell_type": "code",
   "execution_count": 60,
   "metadata": {
    "execution": {
     "iopub.execute_input": "2023-12-30T02:59:03.152927Z",
     "iopub.status.busy": "2023-12-30T02:59:03.151909Z",
     "iopub.status.idle": "2023-12-30T02:59:06.019029Z",
     "shell.execute_reply": "2023-12-30T02:59:06.017976Z",
     "shell.execute_reply.started": "2023-12-30T02:59:03.152873Z"
    }
   },
   "outputs": [
    {
     "name": "stdout",
     "output_type": "stream",
     "text": [
      "Average ROUGE-L F1 Score: 0.1953681068059598\n"
     ]
    }
   ],
   "source": [
    "from transformers import PegasusTokenizer\n",
    "from rouge_score import rouge_scorer\n",
    "\n",
    "\n",
    "# Initialize the PEGASUS tokenizer\n",
    "tokenizer = PegasusTokenizer.from_pretrained('google/pegasus-large')\n",
    "references_ids = tokenizer(references, return_tensors='pt', truncation=True, padding=True)['input_ids']\n",
    "predictions_ids = tokenizer(predictions, return_tensors='pt', truncation=True, padding=True)['input_ids']\n",
    "references_text = tokenizer.batch_decode(references_ids, skip_special_tokens=True)\n",
    "predictions_text = tokenizer.batch_decode(predictions_ids, skip_special_tokens=True)\n",
    "rouge_scorer = rouge_scorer.RougeScorer(['rougeL'], use_stemmer=True)\n",
    "rouge_scores = [rouge_scorer.score(prediction, reference) for prediction, reference in zip(predictions_text, references_text)]\n",
    "rouge_f1_scores = [score['rougeL'].fmeasure for score in rouge_scores]\n",
    "average_rouge_f1 = sum(rouge_f1_scores) / len(rouge_f1_scores)\n",
    "print(\"Average ROUGE-L F1 Score:\", average_rouge_f1)\n"
   ]
  },
  {
   "cell_type": "markdown",
   "metadata": {},
   "source": [
    "<div style=\"background-color:olive; color:white; font-size:15px; font-family:Verdana; padding:10px;font-weight:bold;border: 5px solid black;text-align:center\">\n",
    "12. Génération de Résumés avec le Modèle Fine-Tuné :\n",
    "</div>"
   ]
  },
  {
   "cell_type": "code",
   "execution_count": 21,
   "metadata": {
    "execution": {
     "iopub.execute_input": "2023-12-30T01:52:14.991413Z",
     "iopub.status.busy": "2023-12-30T01:52:14.990517Z",
     "iopub.status.idle": "2023-12-30T01:52:23.746727Z",
     "shell.execute_reply": "2023-12-30T01:52:23.745716Z",
     "shell.execute_reply.started": "2023-12-30T01:52:14.991376Z"
    }
   },
   "outputs": [],
   "source": [
    "# Load the fine-tuned model\n",
    "fine_tuned_model = PegasusForConditionalGeneration.from_pretrained('/kaggle/working/models/fine_tuned_pegasus1')"
   ]
  },
  {
   "cell_type": "code",
   "execution_count": 40,
   "metadata": {
    "execution": {
     "iopub.execute_input": "2023-12-30T02:13:04.932468Z",
     "iopub.status.busy": "2023-12-30T02:13:04.931563Z",
     "iopub.status.idle": "2023-12-30T02:13:16.101969Z",
     "shell.execute_reply": "2023-12-30T02:13:16.100849Z",
     "shell.execute_reply.started": "2023-12-30T02:13:04.932436Z"
    }
   },
   "outputs": [
    {
     "data": {
      "text/plain": [
       "'Dane Pollard met and married his partner Emma after his life was saved by a last minute lung transplant. Dane Pollard met and married his partner, Emma, after his life was saved by a last minute lung transplant.'"
      ]
     },
     "execution_count": 40,
     "metadata": {},
     "output_type": "execute_result"
    }
   ],
   "source": [
    "# Example: Generate summaries using the fine-tuned model\n",
    "input_text = \"\"\"By . Emma Innes . A cystic fibrosis patient has married his girlfriend after having a successful lung transplant. Dane Pollard, 34, was diagnosed with the condition when he was 18 months old and feared he would not survive. The condition caused his lungs to fill with mucus, meaning he needed daily physiotherapy in order to lead a normal life. Dane Pollard met and married his partner, Emma, after his life was saved by a last minute lung transplant . Mr Pollard was diagnosed with cystic fibrosis when he was 18 months old and his health slowly deteriorated . However, his health worsened and he found himself needing a wheelchair and additional oxygen. He eventually ended up housebound and was put on the lung transplant list. In 2008, he received a call to say that some new lungs had been found for him and the operation could go ahead. He believes that if the lungs had not become available, he would not have survived for many more days.\"\"\"\n",
    "\n",
    "def Summarizer(input_text):\n",
    "    input_ids = tokenizer(input_text, return_tensors=\"pt\").input_ids\n",
    "\n",
    "    # Generate the summary\n",
    "    summary_ids = fine_tuned_model.generate(input_ids)\n",
    "\n",
    "    # Decode the summary\n",
    "    summary = tokenizer.decode(summary_ids[0], skip_special_tokens=True)\n",
    "    return summary\n",
    "Summarizer(input_text)"
   ]
  },
  {
   "cell_type": "code",
   "execution_count": 26,
   "metadata": {
    "execution": {
     "iopub.execute_input": "2023-12-30T02:02:23.863011Z",
     "iopub.status.busy": "2023-12-30T02:02:23.862337Z",
     "iopub.status.idle": "2023-12-30T02:02:23.870778Z",
     "shell.execute_reply": "2023-12-30T02:02:23.869787Z",
     "shell.execute_reply.started": "2023-12-30T02:02:23.862981Z"
    }
   },
   "outputs": [
    {
     "data": {
      "text/plain": [
       "{'eval_loss': 0.42184802889823914,\n",
       " 'eval_runtime': 53.3019,\n",
       " 'eval_samples_per_second': 7.11,\n",
       " 'eval_steps_per_second': 7.11,\n",
       " 'epoch': 3.0}"
      ]
     },
     "execution_count": 26,
     "metadata": {},
     "output_type": "execute_result"
    }
   ],
   "source": [
    "results"
   ]
  },
  {
   "cell_type": "code",
   "execution_count": 57,
   "metadata": {
    "execution": {
     "iopub.execute_input": "2023-12-30T02:56:07.746261Z",
     "iopub.status.busy": "2023-12-30T02:56:07.745843Z",
     "iopub.status.idle": "2023-12-30T02:56:07.752222Z",
     "shell.execute_reply": "2023-12-30T02:56:07.751061Z",
     "shell.execute_reply.started": "2023-12-30T02:56:07.746232Z"
    }
   },
   "outputs": [],
   "source": [
    "pred = predictions"
   ]
  },
  {
   "cell_type": "markdown",
   "metadata": {},
   "source": [
    "---\n",
    "<div style=\"background-color:olive; color:white; font-size:15px; font-family:Verdana; padding:10px;font-weight:bold;border: 5px solid black;text-align:center\">\n",
    "<ul>\n",
    "<li><a href=\"https://blog.research.google/2016/08/text-summarization-with-tensorflow.html\" style=\"color:white;\"> Ressource 1</a></li>\n",
    "<li><a href=\"https://en.wikipedia.org/wiki/Tf%E2%80%93idf\" style=\"color:white;\"> Ressource 2</a></li>\n",
    "<li><a href=\"https://www.kaggle.com/datasets/sbhatti/news-summarization/data\" style=\"color:white;\"> Ressource 3 </a></li>\n",
    "<li><a href=\"https://radimrehurek.com/gensim/models/word2vec.html\" style=\"color:white;\"> Ressource4 </a></li>\n",
    "    \n",
    "</ul>\n",
    "</div>\n",
    "\n",
    "---"
   ]
  },
  {
   "cell_type": "markdown",
   "metadata": {},
   "source": [
    "<h2 style='color:olive' align='center'>END </h2>"
   ]
  }
 ],
 "metadata": {
  "kaggle": {
   "accelerator": "gpu",
   "dataSources": [
    {
     "datasetId": 1912571,
     "sourceId": 3140615,
     "sourceType": "datasetVersion"
    },
    {
     "datasetId": 4238821,
     "sourceId": 7305708,
     "sourceType": "datasetVersion"
    }
   ],
   "dockerImageVersionId": 30627,
   "isGpuEnabled": true,
   "isInternetEnabled": true,
   "language": "python",
   "sourceType": "notebook"
  },
  "kernelspec": {
   "display_name": "Python 3 (ipykernel)",
   "language": "python",
   "name": "python3"
  },
  "language_info": {
   "codemirror_mode": {
    "name": "ipython",
    "version": 3
   },
   "file_extension": ".py",
   "mimetype": "text/x-python",
   "name": "python",
   "nbconvert_exporter": "python",
   "pygments_lexer": "ipython3",
   "version": "3.11.4"
  }
 },
 "nbformat": 4,
 "nbformat_minor": 4
}
