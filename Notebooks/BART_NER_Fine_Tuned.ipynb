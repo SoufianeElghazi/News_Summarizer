{
 "cells": [
  {
   "cell_type": "markdown",
   "metadata": {},
   "source": [
    "<div style=\"background-color:olive; color:white; font-size:15px; font-family:Verdana; padding:10px;font-weight:bold;border: 5px solid black;\">\n",
    "<p style=\"color:orange;font-weight:bold\"><u>Réalisé par:</u></p>\n",
    "<ul >\n",
    "    <li>ELGHAZI Soufiane</li>\n",
    "</ul>\n",
    "    \n",
    "</div>"
   ]
  },
  {
   "cell_type": "markdown",
   "metadata": {},
   "source": [
    "<h1 style='color:purple' align='center'>Text mining: News Summarizer </h1>"
   ]
  },
  {
   "cell_type": "markdown",
   "metadata": {},
   "source": [
    "<h2 style='color:olive' align='center'>BART avec la fonctionalité de NER </h2>"
   ]
  },
  {
   "cell_type": "markdown",
   "metadata": {},
   "source": [
    "<div style=\"background-color:white; color:black; font-size:15px; font-family:Verdana; padding:10px;font-weight:bold;border: 5px solid black;\">\n",
    "<p style=\"color:purple;\">Étape 3 : Amélioration de modèle : BART avec NER</p><br>\n",
    "<p style=\"color:purple;\">Références</p>\n",
    " Les liens vers les ressources utilisées et consulté .<br><br>\n",
    "</div>"
   ]
  },
  {
   "cell_type": "markdown",
   "metadata": {},
   "source": [
    "<h2 style='color:purple'>Importation des Bibliothèques: </h2>"
   ]
  },
  {
   "cell_type": "code",
   "execution_count": 6,
   "metadata": {
    "execution": {
     "iopub.execute_input": "2023-12-30T04:55:23.482046Z",
     "iopub.status.busy": "2023-12-30T04:55:23.481148Z",
     "iopub.status.idle": "2023-12-30T04:55:23.511988Z",
     "shell.execute_reply": "2023-12-30T04:55:23.511011Z",
     "shell.execute_reply.started": "2023-12-30T04:55:23.482011Z"
    }
   },
   "outputs": [
    {
     "name": "stdout",
     "output_type": "stream",
     "text": [
      "GPU is available. \n",
      "Using GPU\n"
     ]
    }
   ],
   "source": [
    "pd.set_option('display.max_colwidth', 1000)\n",
    "\n",
    "seed = 42\n",
    "colormap = 'cividis'\n",
    "template = 'plotly_dark'\n",
    "\n",
    "# Checking if GPU is available\n",
    "if torch.cuda.is_available():\n",
    "    print(\"GPU is available. \\nUsing GPU\")\n",
    "    device = torch.device('cuda')\n",
    "else:\n",
    "    print(\"GPU is not available. \\nUsing CPU\")\n",
    "    device = torch.device('cpu')"
   ]
  },
  {
   "cell_type": "code",
   "execution_count": 2,
   "metadata": {
    "collapsed": true,
    "execution": {
     "iopub.execute_input": "2023-12-30T04:53:03.327898Z",
     "iopub.status.busy": "2023-12-30T04:53:03.327088Z",
     "iopub.status.idle": "2023-12-30T04:53:23.089323Z",
     "shell.execute_reply": "2023-12-30T04:53:23.087575Z",
     "shell.execute_reply.started": "2023-12-30T04:53:03.327865Z"
    },
    "jupyter": {
     "outputs_hidden": true
    }
   },
   "outputs": [
    {
     "name": "stdout",
     "output_type": "stream",
     "text": [
      "/opt/conda/lib/python3.10/site-packages/scipy/__init__.py:146: UserWarning: A NumPy version >=1.16.5 and <1.23.0 is required for this version of SciPy (detected version 1.24.3\n",
      "  warnings.warn(f\"A NumPy version >={np_minversion} and <{np_maxversion}\"\n",
      "Collecting en-core-web-sm==3.7.1\n",
      "  Downloading https://github.com/explosion/spacy-models/releases/download/en_core_web_sm-3.7.1/en_core_web_sm-3.7.1-py3-none-any.whl (12.8 MB)\n",
      "\u001b[2K     \u001b[90m━━━━━━━━━━━━━━━━━━━━━━━━━━━━━━━━━━━━━━━━\u001b[0m \u001b[32m12.8/12.8 MB\u001b[0m \u001b[31m71.6 MB/s\u001b[0m eta \u001b[36m0:00:00\u001b[0m00:01\u001b[0m0:01\u001b[0m\n",
      "\u001b[?25hRequirement already satisfied: spacy<3.8.0,>=3.7.2 in /opt/conda/lib/python3.10/site-packages (from en-core-web-sm==3.7.1) (3.7.2)\n",
      "Requirement already satisfied: spacy-legacy<3.1.0,>=3.0.11 in /opt/conda/lib/python3.10/site-packages (from spacy<3.8.0,>=3.7.2->en-core-web-sm==3.7.1) (3.0.12)\n",
      "Requirement already satisfied: spacy-loggers<2.0.0,>=1.0.0 in /opt/conda/lib/python3.10/site-packages (from spacy<3.8.0,>=3.7.2->en-core-web-sm==3.7.1) (1.0.5)\n",
      "Requirement already satisfied: murmurhash<1.1.0,>=0.28.0 in /opt/conda/lib/python3.10/site-packages (from spacy<3.8.0,>=3.7.2->en-core-web-sm==3.7.1) (1.0.10)\n",
      "Requirement already satisfied: cymem<2.1.0,>=2.0.2 in /opt/conda/lib/python3.10/site-packages (from spacy<3.8.0,>=3.7.2->en-core-web-sm==3.7.1) (2.0.8)\n",
      "Requirement already satisfied: preshed<3.1.0,>=3.0.2 in /opt/conda/lib/python3.10/site-packages (from spacy<3.8.0,>=3.7.2->en-core-web-sm==3.7.1) (3.0.9)\n",
      "Requirement already satisfied: thinc<8.3.0,>=8.1.8 in /opt/conda/lib/python3.10/site-packages (from spacy<3.8.0,>=3.7.2->en-core-web-sm==3.7.1) (8.2.1)\n",
      "Requirement already satisfied: wasabi<1.2.0,>=0.9.1 in /opt/conda/lib/python3.10/site-packages (from spacy<3.8.0,>=3.7.2->en-core-web-sm==3.7.1) (1.1.2)\n",
      "Requirement already satisfied: srsly<3.0.0,>=2.4.3 in /opt/conda/lib/python3.10/site-packages (from spacy<3.8.0,>=3.7.2->en-core-web-sm==3.7.1) (2.4.8)\n",
      "Requirement already satisfied: catalogue<2.1.0,>=2.0.6 in /opt/conda/lib/python3.10/site-packages (from spacy<3.8.0,>=3.7.2->en-core-web-sm==3.7.1) (2.0.10)\n",
      "Requirement already satisfied: weasel<0.4.0,>=0.1.0 in /opt/conda/lib/python3.10/site-packages (from spacy<3.8.0,>=3.7.2->en-core-web-sm==3.7.1) (0.3.4)\n",
      "Requirement already satisfied: typer<0.10.0,>=0.3.0 in /opt/conda/lib/python3.10/site-packages (from spacy<3.8.0,>=3.7.2->en-core-web-sm==3.7.1) (0.9.0)\n",
      "Requirement already satisfied: smart-open<7.0.0,>=5.2.1 in /opt/conda/lib/python3.10/site-packages (from spacy<3.8.0,>=3.7.2->en-core-web-sm==3.7.1) (6.3.0)\n",
      "Requirement already satisfied: tqdm<5.0.0,>=4.38.0 in /opt/conda/lib/python3.10/site-packages (from spacy<3.8.0,>=3.7.2->en-core-web-sm==3.7.1) (4.66.1)\n",
      "Requirement already satisfied: requests<3.0.0,>=2.13.0 in /opt/conda/lib/python3.10/site-packages (from spacy<3.8.0,>=3.7.2->en-core-web-sm==3.7.1) (2.31.0)\n",
      "Requirement already satisfied: pydantic!=1.8,!=1.8.1,<3.0.0,>=1.7.4 in /opt/conda/lib/python3.10/site-packages (from spacy<3.8.0,>=3.7.2->en-core-web-sm==3.7.1) (1.10.12)\n",
      "Requirement already satisfied: jinja2 in /opt/conda/lib/python3.10/site-packages (from spacy<3.8.0,>=3.7.2->en-core-web-sm==3.7.1) (3.1.2)\n",
      "Requirement already satisfied: setuptools in /opt/conda/lib/python3.10/site-packages (from spacy<3.8.0,>=3.7.2->en-core-web-sm==3.7.1) (68.1.2)\n",
      "Requirement already satisfied: packaging>=20.0 in /opt/conda/lib/python3.10/site-packages (from spacy<3.8.0,>=3.7.2->en-core-web-sm==3.7.1) (21.3)\n",
      "Requirement already satisfied: langcodes<4.0.0,>=3.2.0 in /opt/conda/lib/python3.10/site-packages (from spacy<3.8.0,>=3.7.2->en-core-web-sm==3.7.1) (3.3.0)\n",
      "Requirement already satisfied: numpy>=1.19.0 in /opt/conda/lib/python3.10/site-packages (from spacy<3.8.0,>=3.7.2->en-core-web-sm==3.7.1) (1.24.3)\n",
      "Requirement already satisfied: pyparsing!=3.0.5,>=2.0.2 in /opt/conda/lib/python3.10/site-packages (from packaging>=20.0->spacy<3.8.0,>=3.7.2->en-core-web-sm==3.7.1) (3.0.9)\n",
      "Requirement already satisfied: typing-extensions>=4.2.0 in /opt/conda/lib/python3.10/site-packages (from pydantic!=1.8,!=1.8.1,<3.0.0,>=1.7.4->spacy<3.8.0,>=3.7.2->en-core-web-sm==3.7.1) (4.5.0)\n",
      "Requirement already satisfied: charset-normalizer<4,>=2 in /opt/conda/lib/python3.10/site-packages (from requests<3.0.0,>=2.13.0->spacy<3.8.0,>=3.7.2->en-core-web-sm==3.7.1) (3.2.0)\n",
      "Requirement already satisfied: idna<4,>=2.5 in /opt/conda/lib/python3.10/site-packages (from requests<3.0.0,>=2.13.0->spacy<3.8.0,>=3.7.2->en-core-web-sm==3.7.1) (3.4)\n",
      "Requirement already satisfied: urllib3<3,>=1.21.1 in /opt/conda/lib/python3.10/site-packages (from requests<3.0.0,>=2.13.0->spacy<3.8.0,>=3.7.2->en-core-web-sm==3.7.1) (1.26.15)\n",
      "Requirement already satisfied: certifi>=2017.4.17 in /opt/conda/lib/python3.10/site-packages (from requests<3.0.0,>=2.13.0->spacy<3.8.0,>=3.7.2->en-core-web-sm==3.7.1) (2023.11.17)\n",
      "Requirement already satisfied: blis<0.8.0,>=0.7.8 in /opt/conda/lib/python3.10/site-packages (from thinc<8.3.0,>=8.1.8->spacy<3.8.0,>=3.7.2->en-core-web-sm==3.7.1) (0.7.10)\n",
      "Requirement already satisfied: confection<1.0.0,>=0.0.1 in /opt/conda/lib/python3.10/site-packages (from thinc<8.3.0,>=8.1.8->spacy<3.8.0,>=3.7.2->en-core-web-sm==3.7.1) (0.1.4)\n",
      "Requirement already satisfied: click<9.0.0,>=7.1.1 in /opt/conda/lib/python3.10/site-packages (from typer<0.10.0,>=0.3.0->spacy<3.8.0,>=3.7.2->en-core-web-sm==3.7.1) (8.1.7)\n",
      "Requirement already satisfied: cloudpathlib<0.17.0,>=0.7.0 in /opt/conda/lib/python3.10/site-packages (from weasel<0.4.0,>=0.1.0->spacy<3.8.0,>=3.7.2->en-core-web-sm==3.7.1) (0.16.0)\n",
      "Requirement already satisfied: MarkupSafe>=2.0 in /opt/conda/lib/python3.10/site-packages (from jinja2->spacy<3.8.0,>=3.7.2->en-core-web-sm==3.7.1) (2.1.3)\n",
      "\u001b[38;5;2m✔ Download and installation successful\u001b[0m\n",
      "You can now load the package via spacy.load('en_core_web_sm')\n"
     ]
    }
   ],
   "source": [
    "!python -m spacy download en_core_web_sm\n",
    "!pip install spacy\n",
    "!pip install spacy\n",
    "#!pip install datasets # Installing the datasets library (https://huggingface.co/docs/datasets/index)\n",
    "!pip install evaluate # Installing the evaluate library (https://huggingface.co/docs/evaluate/main/en/index)\n",
    "!pip install transformers # Installing the transformers library (https://huggingface.co/docs/transformers/index)\n",
    "!pip install rouge-score # Installing rouge-score library (https://pypi.org/project/rouge-score/)\n",
    "!pip install py7zr # Installing library to save zip archives (https://pypi.org/project/py7zr/)\n",
    "!pip install datasets"
   ]
  },
  {
   "cell_type": "code",
   "execution_count": 5,
   "metadata": {
    "execution": {
     "iopub.execute_input": "2023-12-30T04:55:19.873513Z",
     "iopub.status.busy": "2023-12-30T04:55:19.872526Z",
     "iopub.status.idle": "2023-12-30T04:55:20.523747Z",
     "shell.execute_reply": "2023-12-30T04:55:20.522817Z",
     "shell.execute_reply.started": "2023-12-30T04:55:19.873455Z"
    }
   },
   "outputs": [
    {
     "data": {
      "text/html": [
       "        <script type=\"text/javascript\">\n",
       "        window.PlotlyConfig = {MathJaxConfig: 'local'};\n",
       "        if (window.MathJax && window.MathJax.Hub && window.MathJax.Hub.Config) {window.MathJax.Hub.Config({SVG: {font: \"STIX-Web\"}});}\n",
       "        if (typeof require !== 'undefined') {\n",
       "        require.undef(\"plotly\");\n",
       "        requirejs.config({\n",
       "            paths: {\n",
       "                'plotly': ['https://cdn.plot.ly/plotly-2.25.2.min']\n",
       "            }\n",
       "        });\n",
       "        require(['plotly'], function(Plotly) {\n",
       "            window._Plotly = Plotly;\n",
       "        });\n",
       "        }\n",
       "        </script>\n",
       "        "
      ]
     },
     "metadata": {},
     "output_type": "display_data"
    },
    {
     "name": "stdout",
     "output_type": "stream",
     "text": [
      "[nltk_data] Downloading package punkt to /usr/share/nltk_data...\n",
      "[nltk_data]   Package punkt is already up-to-date!\n"
     ]
    },
    {
     "data": {
      "text/plain": [
       "True"
      ]
     },
     "execution_count": 5,
     "metadata": {},
     "output_type": "execute_result"
    }
   ],
   "source": [
    "# Importing Libraries\n",
    "\n",
    "# Data Handling\n",
    "import pandas as pd\n",
    "import numpy as np\n",
    "from datasets import Dataset, load_metric\n",
    "import shutil\n",
    "\n",
    "# Data Visualization\n",
    "import plotly.express as px\n",
    "import plotly.graph_objs as go\n",
    "import plotly.subplots as sp\n",
    "from plotly.subplots import make_subplots\n",
    "import plotly.figure_factory as ff\n",
    "import plotly.io as pio\n",
    "from IPython.display import display\n",
    "from plotly.offline import init_notebook_mode\n",
    "init_notebook_mode(connected=True)\n",
    "\n",
    "# Statistics & Mathematics\n",
    "import scipy.stats as stats\n",
    "import statsmodels.api as sm\n",
    "from scipy.stats import shapiro, skew, anderson, kstest, gaussian_kde,spearmanr\n",
    "import math\n",
    "\n",
    "# Hiding warnings\n",
    "import warnings\n",
    "warnings.filterwarnings(\"ignore\")\n",
    "# Transformers\n",
    "from transformers import BartTokenizer, BartForConditionalGeneration      # BERT Tokenizer and architecture\n",
    "from transformers import Seq2SeqTrainer, Seq2SeqTrainingArguments         # These will help us to fine-tune our model\n",
    "from transformers import pipeline                                         # Pipeline\n",
    "from transformers import DataCollatorForSeq2Seq                           # DataCollator to batch the data \n",
    "import torch                                                              # PyTorch\n",
    "import evaluate                                                           # Hugging Face's library for model evaluation\n",
    "\n",
    "\n",
    "# Other NLP libraries\n",
    "from textblob import TextBlob                                             # This is going to help us fix spelling mistakes in texts\n",
    "from sklearn.feature_extraction.text import TfidfVectorizer               # This is going to helps identify the most common terms in the corpus\n",
    "import re                                                                 # This library allows us to clean text data\n",
    "import nltk                                                               # Natural Language Toolkit\n",
    "nltk.download('punkt')                                                    # This divides a text into a list of sentences\n",
    "import spacy\n",
    "import pandas as pd\n",
    "from transformers import BartTokenizer, BartForConditionalGeneration, DataCollatorForSeq2Seq\n",
    "from sklearn.model_selection import train_test_split\n",
    "from datasets import Dataset\n",
    "import numpy as np\n",
    "import nltk\n",
    "from sklearn.feature_extraction.text import TfidfVectorizer\n",
    "\n",
    "import torch\n",
    "import pandas as pd\n",
    "import numpy as np\n",
    "from sklearn.model_selection import train_test_split\n",
    "from sklearn.feature_extraction.text import TfidfVectorizer\n",
    "from transformers import BartTokenizer, BartForConditionalGeneration\n",
    "from datasets import Dataset, load_metric\n",
    "from transformers import Seq2SeqTrainer, Seq2SeqTrainingArguments\n",
    "from transformers import DataCollatorForSeq2Seq\n",
    "import nltk\n",
    "nltk.download('punkt')"
   ]
  },
  {
   "cell_type": "markdown",
   "metadata": {},
   "source": [
    "<div style=\"background-color:olive; color:white; font-size:15px; font-family:Verdana; padding:10px;font-weight:bold;border: 5px solid black;text-align:center\">\n",
    "Partie 1 : Chargement et prétraitement des données\n",
    "</div>"
   ]
  },
  {
   "cell_type": "code",
   "execution_count": 8,
   "metadata": {
    "execution": {
     "iopub.execute_input": "2023-12-30T04:55:30.603888Z",
     "iopub.status.busy": "2023-12-30T04:55:30.603526Z",
     "iopub.status.idle": "2023-12-30T04:55:31.260648Z",
     "shell.execute_reply": "2023-12-30T04:55:31.259834Z",
     "shell.execute_reply.started": "2023-12-30T04:55:30.603861Z"
    }
   },
   "outputs": [],
   "source": [
    "from sklearn.model_selection import train_test_split\n",
    "import pandas  as pd \n",
    "data_path = '/kaggle/input/cleaned-corpus/cleaned_corpus.xlsx'\n",
    "df = pd.read_excel(data_path)"
   ]
  },
  {
   "cell_type": "code",
   "execution_count": 9,
   "metadata": {
    "execution": {
     "iopub.execute_input": "2023-12-30T04:55:33.848606Z",
     "iopub.status.busy": "2023-12-30T04:55:33.847810Z",
     "iopub.status.idle": "2023-12-30T04:55:33.853403Z",
     "shell.execute_reply": "2023-12-30T04:55:33.852531Z",
     "shell.execute_reply.started": "2023-12-30T04:55:33.848568Z"
    }
   },
   "outputs": [],
   "source": [
    "df.columns = ['Content','Summary']"
   ]
  },
  {
   "cell_type": "markdown",
   "metadata": {},
   "source": [
    "> ### - Le code suivant nous permet de déterminer la longueur maximale des articles de notre dataset. Nous utilisons cette information pour configurer les entrées et les sorties de notre modèle."
   ]
  },
  {
   "cell_type": "code",
   "execution_count": 58,
   "metadata": {
    "execution": {
     "iopub.execute_input": "2023-12-29T17:51:44.331770Z",
     "iopub.status.busy": "2023-12-29T17:51:44.330828Z",
     "iopub.status.idle": "2023-12-29T17:51:44.357011Z",
     "shell.execute_reply": "2023-12-29T17:51:44.356041Z",
     "shell.execute_reply.started": "2023-12-29T17:51:44.331736Z"
    }
   },
   "outputs": [
    {
     "name": "stdout",
     "output_type": "stream",
     "text": [
      "Max Lengths per Column:\n",
      "{'Content': 330704, 'Summary': 1853, 'Entities': 37047}\n"
     ]
    }
   ],
   "source": [
    "def max_length_per_column(dataframe):\n",
    "    max_lengths = {}\n",
    "    for column in dataframe.columns:\n",
    "        max_lengths[column] = dataframe[column].astype(str).apply(len).max()\n",
    "    return max_lengths\n",
    "max_lengths = max_length_per_column(df)\n",
    "print(\"Max Lengths per Column:\")\n",
    "print(max_lengths)\n"
   ]
  },
  {
   "cell_type": "markdown",
   "metadata": {},
   "source": [
    "<div style=\"background-color:olive; color:white; font-size:15px; font-family:Verdana; padding:10px;font-weight:bold;border: 5px solid black;text-align:center\">\n",
    "Partie 2 : Reconnaissance d'entités nommées (NER):\n",
    "</div>"
   ]
  },
  {
   "cell_type": "code",
   "execution_count": 11,
   "metadata": {
    "execution": {
     "iopub.execute_input": "2023-12-30T04:55:44.597798Z",
     "iopub.status.busy": "2023-12-30T04:55:44.597402Z",
     "iopub.status.idle": "2023-12-30T04:55:45.770717Z",
     "shell.execute_reply": "2023-12-30T04:55:45.769706Z",
     "shell.execute_reply.started": "2023-12-30T04:55:44.597768Z"
    }
   },
   "outputs": [],
   "source": [
    "nlp = spacy.load(\"en_core_web_sm\")"
   ]
  },
  {
   "cell_type": "code",
   "execution_count": 12,
   "metadata": {
    "execution": {
     "iopub.execute_input": "2023-12-30T04:56:08.285063Z",
     "iopub.status.busy": "2023-12-30T04:56:08.284185Z",
     "iopub.status.idle": "2023-12-30T04:56:33.764244Z",
     "shell.execute_reply": "2023-12-30T04:56:33.763440Z",
     "shell.execute_reply.started": "2023-12-30T04:56:08.285032Z"
    }
   },
   "outputs": [],
   "source": [
    "\n",
    "def extract_entities(text):\n",
    "    doc = nlp(text)\n",
    "    entities = [ent.text for ent in doc.ents]\n",
    "    return entities\n",
    "df['Entities'] = df['Content'].apply(extract_entities)"
   ]
  },
  {
   "cell_type": "code",
   "execution_count": 56,
   "metadata": {
    "execution": {
     "iopub.execute_input": "2023-12-30T07:21:20.531625Z",
     "iopub.status.busy": "2023-12-30T07:21:20.531195Z",
     "iopub.status.idle": "2023-12-30T07:21:20.547773Z",
     "shell.execute_reply": "2023-12-30T07:21:20.546791Z",
     "shell.execute_reply.started": "2023-12-30T07:21:20.531593Z"
    },
    "scrolled": true
   },
   "outputs": [
    {
     "data": {
      "text/html": [
       "<div>\n",
       "<style scoped>\n",
       "    .dataframe tbody tr th:only-of-type {\n",
       "        vertical-align: middle;\n",
       "    }\n",
       "\n",
       "    .dataframe tbody tr th {\n",
       "        vertical-align: top;\n",
       "    }\n",
       "\n",
       "    .dataframe thead th {\n",
       "        text-align: right;\n",
       "    }\n",
       "</style>\n",
       "<table border=\"1\" class=\"dataframe\">\n",
       "  <thead>\n",
       "    <tr style=\"text-align: right;\">\n",
       "      <th></th>\n",
       "      <th>Content</th>\n",
       "      <th>Summary</th>\n",
       "      <th>Entities</th>\n",
       "    </tr>\n",
       "  </thead>\n",
       "  <tbody>\n",
       "    <tr>\n",
       "      <th>0</th>\n",
       "      <td>it s heartbreaking. initial surveys indicated ef-3 tornado damage in east nashville nashville s donelson neighborhood and in mt as of tuesday evening 18 people were reported dead in putnam county three in wilson county two in davidson county and one in benton county the tennessee emergency management authority said robin fugett and her husband ran to the basement of their east nashville home early tuesday when they heard swirling wind in davidson county where nashville is and wilson county voting was delayed one hour because of the storms officials said wtvfmetro nashville public schools are closed due to tornado damage throughout the city the district said.</td>\n",
       "      <td>severe storms and at least one tornado slammed through central tennessee killing 24 people and wrecking hundreds of buildings hours before dawn on tuesday  it s tragic day in our state gov bill lee told reporters  it s heartbreaking.  initial surveys indicated ef-3 tornado damage in east nashville nashville s donelson neighborhood and in mt juliet town about 20 miles east of nashville the national weather service said among the victims was couple who was hit by debris shortly after they left the attaboy lounge an east nashville cocktail bar where one of them worked the metro nashville police department said they were identified as michael dolfini 36 and his girlfriend albree sexton 33 as of tuesday evening 18 people were reported dead in putnam county three in wilson county two in davidson county and one in benton county the tennessee emergency management authority said the agency said one death previously reported in putnam county was not storm related putnam county officials have...</td>\n",
       "      <td>[nashville, mt, tuesday, 18, three, wilson county, two, davidson county, one, benton county, the tennessee emergency management authority, robin fugett, early tuesday, davidson county, nashville, wilson county, one hour, nashville]</td>\n",
       "    </tr>\n",
       "    <tr>\n",
       "      <th>1</th>\n",
       "      <td>by the time the tornado siren sounded one week ago the roof of sydney moore s mobile home in clarksville tennessee had been sheared off and her 4-month-old son lord sucked up by the twister moments before the clarksville tornado touched down moore youngblood and the boys were relaxing in her mobile home tornado passes in front of storm chasers in clarksville tennessee last saturday it s really so comforting sydney moore said  like an angel guided him safely to that spot. in an interview caitlyn moore said it s miracle lord is alive.</td>\n",
       "      <td>by the time the tornado siren sounded one week ago the roof of sydney moore s mobile home in clarksville tennessee had been sheared off and her 4-month-old son lord sucked up by the twister  there was no warning said moore 22 who immediately moved to shield her 1-year-old son princeton with her body moore s boyfriend aramis youngblood 39 rushed to protect lord who was sleeping in bassinet swept up in swirl of wind and debris saturday evening as series of powerful tornadoes and storms tore through the state the walls of moore s mobile home came down next the roar of shredding winds was punctuated by pounding rains youngblood reaching for the bassinet also was lifted off the ground and hurtled through the air moore recalled moore cradling her 1-year-old son climbed out from beneath the remains of the crushed mobile home  my kids never cry they re such good babies she said  i was trying to get us out he wasn t even crying.  youngblood his shoulder dislocated spent an agonizing 10 minu...</td>\n",
       "      <td>[one week ago, sydney moore s, clarksville tennessee, 4-month-old, clarksville tennessee, last saturday, sydney moore]</td>\n",
       "    </tr>\n",
       "    <tr>\n",
       "      <th>2</th>\n",
       "      <td>it s heartbreaking. initial surveys indicated ef-3 tornado damage in east nashville nashville s donelson neighborhood and in mt as of tuesday evening 18 people were reported dead in putnam county three in wilson county two in davidson county and one in benton county the tennessee emergency management authority said robin fugett and her husband ran to the basement of their east nashville home early tuesday when they heard swirling wind in davidson county where nashville is and wilson county voting was delayed one hour because of the storms officials said wtvfmetro nashville public schools are closed due to tornado damage throughout the city the district said.</td>\n",
       "      <td>severe storms and at least one tornado slammed through central tennessee killing 24 people and wrecking hundreds of buildings hours before dawn on tuesday  it s tragic day in our state gov bill lee told reporters  it s heartbreaking.  initial surveys indicated ef-3 tornado damage in east nashville nashville s donelson neighborhood and in mt juliet town about 20 miles east of nashville the national weather service said among the victims was couple who was hit by debris shortly after they left the attaboy lounge an east nashville cocktail bar where one of them worked the metro nashville police department said they were identified as michael dolfini 36 and his girlfriend albree sexton 33 as of tuesday evening 18 people were reported dead in putnam county three in wilson county two in davidson county and one in benton county the tennessee emergency management authority said the agency said one death previously reported in putnam county was not storm related putnam county officials have...</td>\n",
       "      <td>[nashville, mt, tuesday, 18, three, wilson county, two, davidson county, one, benton county, the tennessee emergency management authority, robin fugett, early tuesday, davidson county, nashville, wilson county, one hour, nashville]</td>\n",
       "    </tr>\n",
       "  </tbody>\n",
       "</table>\n",
       "</div>"
      ],
      "text/plain": [
       "                                                                                                                                                                                                                                                                                                                                                                                                                                                                                                                                                                                                                                                                                       Content  \\\n",
       "0   it s heartbreaking. initial surveys indicated ef-3 tornado damage in east nashville nashville s donelson neighborhood and in mt as of tuesday evening 18 people were reported dead in putnam county three in wilson county two in davidson county and one in benton county the tennessee emergency management authority said robin fugett and her husband ran to the basement of their east nashville home early tuesday when they heard swirling wind in davidson county where nashville is and wilson county voting was delayed one hour because of the storms officials said wtvfmetro nashville public schools are closed due to tornado damage throughout the city the district said.   \n",
       "1                                                                                                                                   by the time the tornado siren sounded one week ago the roof of sydney moore s mobile home in clarksville tennessee had been sheared off and her 4-month-old son lord sucked up by the twister moments before the clarksville tornado touched down moore youngblood and the boys were relaxing in her mobile home tornado passes in front of storm chasers in clarksville tennessee last saturday it s really so comforting sydney moore said  like an angel guided him safely to that spot. in an interview caitlyn moore said it s miracle lord is alive.   \n",
       "2   it s heartbreaking. initial surveys indicated ef-3 tornado damage in east nashville nashville s donelson neighborhood and in mt as of tuesday evening 18 people were reported dead in putnam county three in wilson county two in davidson county and one in benton county the tennessee emergency management authority said robin fugett and her husband ran to the basement of their east nashville home early tuesday when they heard swirling wind in davidson county where nashville is and wilson county voting was delayed one hour because of the storms officials said wtvfmetro nashville public schools are closed due to tornado damage throughout the city the district said.   \n",
       "\n",
       "                                                                                                                                                                                                                                                                                                                                                                                                                                                                                                                                                                                                                                                                                                                                                                                                                                                                                                                                                                                                                                   Summary  \\\n",
       "0  severe storms and at least one tornado slammed through central tennessee killing 24 people and wrecking hundreds of buildings hours before dawn on tuesday  it s tragic day in our state gov bill lee told reporters  it s heartbreaking.  initial surveys indicated ef-3 tornado damage in east nashville nashville s donelson neighborhood and in mt juliet town about 20 miles east of nashville the national weather service said among the victims was couple who was hit by debris shortly after they left the attaboy lounge an east nashville cocktail bar where one of them worked the metro nashville police department said they were identified as michael dolfini 36 and his girlfriend albree sexton 33 as of tuesday evening 18 people were reported dead in putnam county three in wilson county two in davidson county and one in benton county the tennessee emergency management authority said the agency said one death previously reported in putnam county was not storm related putnam county officials have...   \n",
       "1  by the time the tornado siren sounded one week ago the roof of sydney moore s mobile home in clarksville tennessee had been sheared off and her 4-month-old son lord sucked up by the twister  there was no warning said moore 22 who immediately moved to shield her 1-year-old son princeton with her body moore s boyfriend aramis youngblood 39 rushed to protect lord who was sleeping in bassinet swept up in swirl of wind and debris saturday evening as series of powerful tornadoes and storms tore through the state the walls of moore s mobile home came down next the roar of shredding winds was punctuated by pounding rains youngblood reaching for the bassinet also was lifted off the ground and hurtled through the air moore recalled moore cradling her 1-year-old son climbed out from beneath the remains of the crushed mobile home  my kids never cry they re such good babies she said  i was trying to get us out he wasn t even crying.  youngblood his shoulder dislocated spent an agonizing 10 minu...   \n",
       "2  severe storms and at least one tornado slammed through central tennessee killing 24 people and wrecking hundreds of buildings hours before dawn on tuesday  it s tragic day in our state gov bill lee told reporters  it s heartbreaking.  initial surveys indicated ef-3 tornado damage in east nashville nashville s donelson neighborhood and in mt juliet town about 20 miles east of nashville the national weather service said among the victims was couple who was hit by debris shortly after they left the attaboy lounge an east nashville cocktail bar where one of them worked the metro nashville police department said they were identified as michael dolfini 36 and his girlfriend albree sexton 33 as of tuesday evening 18 people were reported dead in putnam county three in wilson county two in davidson county and one in benton county the tennessee emergency management authority said the agency said one death previously reported in putnam county was not storm related putnam county officials have...   \n",
       "\n",
       "                                                                                                                                                                                                                                  Entities  \n",
       "0  [nashville, mt, tuesday, 18, three, wilson county, two, davidson county, one, benton county, the tennessee emergency management authority, robin fugett, early tuesday, davidson county, nashville, wilson county, one hour, nashville]  \n",
       "1                                                                                                                   [one week ago, sydney moore s, clarksville tennessee, 4-month-old, clarksville tennessee, last saturday, sydney moore]  \n",
       "2  [nashville, mt, tuesday, 18, three, wilson county, two, davidson county, one, benton county, the tennessee emergency management authority, robin fugett, early tuesday, davidson county, nashville, wilson county, one hour, nashville]  "
      ]
     },
     "execution_count": 56,
     "metadata": {},
     "output_type": "execute_result"
    }
   ],
   "source": [
    "df.head(3)"
   ]
  },
  {
   "cell_type": "markdown",
   "metadata": {},
   "source": [
    "<div style=\"background-color:olive; color:white; font-size:15px; font-family:Verdana; padding:10px;font-weight:bold;border: 5px solid black;text-align:center\">\n",
    "Partie 3 : Tokenisation et la Répartition des données.\n",
    "</div>"
   ]
  },
  {
   "cell_type": "code",
   "execution_count": 14,
   "metadata": {
    "execution": {
     "iopub.execute_input": "2023-12-30T04:57:22.963968Z",
     "iopub.status.busy": "2023-12-30T04:57:22.963193Z",
     "iopub.status.idle": "2023-12-30T04:57:22.974682Z",
     "shell.execute_reply": "2023-12-30T04:57:22.973743Z",
     "shell.execute_reply.started": "2023-12-30T04:57:22.963928Z"
    }
   },
   "outputs": [],
   "source": [
    "train, temp_data = train_test_split(df, test_size=0.2, random_state=42)\n",
    "val, test = train_test_split(temp_data, test_size=0.5, random_state=42)"
   ]
  },
  {
   "cell_type": "code",
   "execution_count": 15,
   "metadata": {
    "execution": {
     "iopub.execute_input": "2023-12-30T04:57:25.566632Z",
     "iopub.status.busy": "2023-12-30T04:57:25.566249Z",
     "iopub.status.idle": "2023-12-30T04:57:25.614133Z",
     "shell.execute_reply": "2023-12-30T04:57:25.613385Z",
     "shell.execute_reply.started": "2023-12-30T04:57:25.566602Z"
    }
   },
   "outputs": [],
   "source": [
    "train_ds = Dataset.from_pandas(train)\n",
    "test_ds = Dataset.from_pandas(test)\n",
    "val_ds = Dataset.from_pandas(val)"
   ]
  },
  {
   "cell_type": "markdown",
   "metadata": {},
   "source": [
    "> ### - Menommer la colonne \"Enteties\" en \"Entetés\"."
   ]
  },
  {
   "cell_type": "code",
   "execution_count": 16,
   "metadata": {
    "execution": {
     "iopub.execute_input": "2023-12-30T04:57:28.382672Z",
     "iopub.status.busy": "2023-12-30T04:57:28.382286Z",
     "iopub.status.idle": "2023-12-30T04:57:28.392667Z",
     "shell.execute_reply": "2023-12-30T04:57:28.391881Z",
     "shell.execute_reply.started": "2023-12-30T04:57:28.382642Z"
    }
   },
   "outputs": [],
   "source": [
    "train_ds = train_ds.rename_column('Entities', 'entities')\n",
    "test_ds = test_ds.rename_column('Entities', 'entities')\n",
    "val_ds = val_ds.rename_column('Entities', 'entities')"
   ]
  },
  {
   "cell_type": "markdown",
   "metadata": {},
   "source": [
    "> ###  -  chargement du Bart modèle et le tokenizer "
   ]
  },
  {
   "cell_type": "code",
   "execution_count": 17,
   "metadata": {
    "execution": {
     "iopub.execute_input": "2023-12-30T04:57:31.192975Z",
     "iopub.status.busy": "2023-12-30T04:57:31.192586Z",
     "iopub.status.idle": "2023-12-30T04:57:42.396351Z",
     "shell.execute_reply": "2023-12-30T04:57:42.395544Z",
     "shell.execute_reply.started": "2023-12-30T04:57:31.192944Z"
    }
   },
   "outputs": [
    {
     "data": {
      "application/vnd.jupyter.widget-view+json": {
       "model_id": "ca0a7f6389a04994994276c0dfdb1516",
       "version_major": 2,
       "version_minor": 0
      },
      "text/plain": [
       "tokenizer_config.json:   0%|          | 0.00/26.0 [00:00<?, ?B/s]"
      ]
     },
     "metadata": {},
     "output_type": "display_data"
    },
    {
     "data": {
      "application/vnd.jupyter.widget-view+json": {
       "model_id": "db3f5393b2ab446a9a80149d342a2848",
       "version_major": 2,
       "version_minor": 0
      },
      "text/plain": [
       "vocab.json:   0%|          | 0.00/899k [00:00<?, ?B/s]"
      ]
     },
     "metadata": {},
     "output_type": "display_data"
    },
    {
     "data": {
      "application/vnd.jupyter.widget-view+json": {
       "model_id": "269b9188a34a4f6599ec4307e2286a2a",
       "version_major": 2,
       "version_minor": 0
      },
      "text/plain": [
       "merges.txt:   0%|          | 0.00/456k [00:00<?, ?B/s]"
      ]
     },
     "metadata": {},
     "output_type": "display_data"
    },
    {
     "data": {
      "application/vnd.jupyter.widget-view+json": {
       "model_id": "2af7550cd6c94972bda76c81b934a60c",
       "version_major": 2,
       "version_minor": 0
      },
      "text/plain": [
       "tokenizer.json:   0%|          | 0.00/1.36M [00:00<?, ?B/s]"
      ]
     },
     "metadata": {},
     "output_type": "display_data"
    },
    {
     "data": {
      "application/vnd.jupyter.widget-view+json": {
       "model_id": "a63722e8e5bc4a3296c56fe3008bbcc8",
       "version_major": 2,
       "version_minor": 0
      },
      "text/plain": [
       "config.json:   0%|          | 0.00/1.51k [00:00<?, ?B/s]"
      ]
     },
     "metadata": {},
     "output_type": "display_data"
    },
    {
     "data": {
      "application/vnd.jupyter.widget-view+json": {
       "model_id": "8d02ce2bf82b448284c1d11139e0b238",
       "version_major": 2,
       "version_minor": 0
      },
      "text/plain": [
       "pytorch_model.bin:   0%|          | 0.00/1.63G [00:00<?, ?B/s]"
      ]
     },
     "metadata": {},
     "output_type": "display_data"
    },
    {
     "data": {
      "application/vnd.jupyter.widget-view+json": {
       "model_id": "c237a086f8b94e199eab1570b3d49f7b",
       "version_major": 2,
       "version_minor": 0
      },
      "text/plain": [
       "generation_config.json:   0%|          | 0.00/309 [00:00<?, ?B/s]"
      ]
     },
     "metadata": {},
     "output_type": "display_data"
    }
   ],
   "source": [
    "checkpoint = 'facebook/bart-large-xsum'  # Model\n",
    "tokenizer = BartTokenizer.from_pretrained(checkpoint)  # Loading Tokenizer\n",
    "model = BartForConditionalGeneration.from_pretrained(checkpoint)  # Loading Model"
   ]
  },
  {
   "cell_type": "markdown",
   "metadata": {},
   "source": [
    "<div style=\"background-color:olive; color:white; font-size:15px; font-family:Verdana; padding:10px;font-weight:bold;border: 5px solid black;text-align:center\">\n",
    "Injection de la colonne \"entetes\" dans l'entrée du modèle en se basant sur la concaténation des colonnes \"Content\" et \"entetes\".\n",
    "</div>"
   ]
  },
  {
   "cell_type": "code",
   "execution_count": 18,
   "metadata": {
    "execution": {
     "iopub.execute_input": "2023-12-30T04:57:48.923450Z",
     "iopub.status.busy": "2023-12-30T04:57:48.923100Z",
     "iopub.status.idle": "2023-12-30T04:57:48.930779Z",
     "shell.execute_reply": "2023-12-30T04:57:48.929832Z",
     "shell.execute_reply.started": "2023-12-30T04:57:48.923424Z"
    }
   },
   "outputs": [],
   "source": [
    "def preprocess_function(examples):\n",
    "    inputs = [content + \" \" + entities for content, entities in zip(examples[\"Content\"], examples[\"entities\"])]\n",
    "    model_inputs = tokenizer(inputs, max_length=1024, truncation=True)\n",
    "\n",
    "    with tokenizer.as_target_tokenizer():\n",
    "        labels = tokenizer(examples[\"Summary\"], max_length=128, truncation=True)\n",
    "\n",
    "    model_inputs[\"labels\"] = labels[\"input_ids\"]\n",
    "    return model_inputs"
   ]
  },
  {
   "cell_type": "code",
   "execution_count": 79,
   "metadata": {
    "execution": {
     "iopub.execute_input": "2023-12-29T18:05:46.728001Z",
     "iopub.status.busy": "2023-12-29T18:05:46.727520Z",
     "iopub.status.idle": "2023-12-29T18:05:46.735101Z",
     "shell.execute_reply": "2023-12-29T18:05:46.733915Z",
     "shell.execute_reply.started": "2023-12-29T18:05:46.727965Z"
    }
   },
   "outputs": [
    {
     "data": {
      "text/plain": [
       "Dataset({\n",
       "    features: ['Content', 'Summary', 'entities', '__index_level_0__'],\n",
       "    num_rows: 100\n",
       "})"
      ]
     },
     "execution_count": 79,
     "metadata": {},
     "output_type": "execute_result"
    }
   ],
   "source": [
    "test_ds"
   ]
  },
  {
   "cell_type": "markdown",
   "metadata": {},
   "source": [
    "<div style=\"background-color:olive; color:white; font-size:15px; font-family:Verdana; padding:10px;font-weight:bold;border: 5px solid black;text-align:center\">\n",
    "tokenization des données\n",
    "</div>"
   ]
  },
  {
   "cell_type": "code",
   "execution_count": 19,
   "metadata": {
    "execution": {
     "iopub.execute_input": "2023-12-30T04:57:53.654046Z",
     "iopub.status.busy": "2023-12-30T04:57:53.653648Z",
     "iopub.status.idle": "2023-12-30T04:58:13.966410Z",
     "shell.execute_reply": "2023-12-30T04:58:13.965521Z",
     "shell.execute_reply.started": "2023-12-30T04:57:53.654015Z"
    }
   },
   "outputs": [
    {
     "data": {
      "application/vnd.jupyter.widget-view+json": {
       "model_id": "955fd76bf011449bb69f271061a66515",
       "version_major": 2,
       "version_minor": 0
      },
      "text/plain": [
       "  0%|          | 0/2 [00:00<?, ?ba/s]"
      ]
     },
     "metadata": {},
     "output_type": "display_data"
    },
    {
     "data": {
      "application/vnd.jupyter.widget-view+json": {
       "model_id": "6f35fc7302de447392dd572b1be0d2b6",
       "version_major": 2,
       "version_minor": 0
      },
      "text/plain": [
       "  0%|          | 0/1 [00:00<?, ?ba/s]"
      ]
     },
     "metadata": {},
     "output_type": "display_data"
    },
    {
     "data": {
      "application/vnd.jupyter.widget-view+json": {
       "model_id": "4967c34f3bbd476a9dd8e604267048d4",
       "version_major": 2,
       "version_minor": 0
      },
      "text/plain": [
       "  0%|          | 0/1 [00:00<?, ?ba/s]"
      ]
     },
     "metadata": {},
     "output_type": "display_data"
    }
   ],
   "source": [
    "def preprocess_function(examples):\n",
    "    # Check if 'entities' is a list of strings or a list of lists\n",
    "    if isinstance(examples[\"entities\"][0], list):\n",
    "        # Flatten the list of lists\n",
    "        entities = [' '.join(entity_list) for entity_list in examples[\"entities\"]]\n",
    "    else:\n",
    "        entities = examples[\"entities\"]\n",
    "\n",
    "    # Concatenate 'Content' and 'Entities'\n",
    "    inputs = [content + \" \" + entity for content, entity in zip(examples[\"Content\"], entities)]\n",
    "    \n",
    "    # Tokenize and preprocess inputs\n",
    "    model_inputs = tokenizer(inputs, max_length=2000, truncation=True)\n",
    "\n",
    "    with tokenizer.as_target_tokenizer():\n",
    "        # Tokenize and preprocess 'Summary'\n",
    "        labels = tokenizer(examples[\"Summary\"], max_length=128, truncation=True)\n",
    "\n",
    "    model_inputs[\"labels\"] = labels[\"input_ids\"]\n",
    "    return model_inputs\n",
    "\n",
    "\n",
    "# Tokenize and preprocess the datasets\n",
    "tokenized_train = train_ds.map(preprocess_function, batched=True, remove_columns=['Content', 'entities', 'Summary'])\n",
    "tokenized_test = test_ds.map(preprocess_function, batched=True, remove_columns=['Content', 'entities', 'Summary'])\n",
    "tokenized_val = val_ds.map(preprocess_function, batched=True, remove_columns=['Content', 'entities', 'Summary'])\n"
   ]
  },
  {
   "cell_type": "markdown",
   "metadata": {},
   "source": [
    "<div style=\"background-color:olive; color:white; font-size:15px; font-family:Verdana; padding:10px;font-weight:bold;border: 5px solid black;text-align:center\">\n",
    " la regroupement de données (DataCollatorForSeq2Seq) pour préparer les données séquentielles afin de faciliter l'entraînement du modèle de séquence à séquence.</div>"
   ]
  },
  {
   "cell_type": "code",
   "execution_count": 20,
   "metadata": {
    "execution": {
     "iopub.execute_input": "2023-12-30T04:58:56.137724Z",
     "iopub.status.busy": "2023-12-30T04:58:56.137026Z",
     "iopub.status.idle": "2023-12-30T04:58:56.142834Z",
     "shell.execute_reply": "2023-12-30T04:58:56.141474Z",
     "shell.execute_reply.started": "2023-12-30T04:58:56.137682Z"
    }
   },
   "outputs": [],
   "source": [
    "from transformers import DataCollatorForSeq2Seq\n",
    "data_collator = DataCollatorForSeq2Seq(tokenizer, model=model)"
   ]
  },
  {
   "cell_type": "markdown",
   "metadata": {},
   "source": [
    "<div style=\"background-color:olive; color:white; font-size:15px; font-family:Verdana; padding:10px;font-weight:bold;border: 5px solid black;text-align:center\">\n",
    "Partie 6 : Fine-tuning du modèle</div>"
   ]
  },
  {
   "cell_type": "code",
   "execution_count": 40,
   "metadata": {
    "execution": {
     "iopub.execute_input": "2023-12-30T05:37:53.294607Z",
     "iopub.status.busy": "2023-12-30T05:37:53.294211Z",
     "iopub.status.idle": "2023-12-30T05:37:53.301307Z",
     "shell.execute_reply": "2023-12-30T05:37:53.300313Z",
     "shell.execute_reply.started": "2023-12-30T05:37:53.294576Z"
    }
   },
   "outputs": [],
   "source": [
    "from transformers import Seq2SeqTrainer, Seq2SeqTrainingArguments\n",
    "\n",
    "training_args = Seq2SeqTrainingArguments(\n",
    "    output_dir='bart_samsum',\n",
    "    evaluation_strategy=\"epoch\",\n",
    "    save_strategy='epoch',\n",
    "    load_best_model_at_end=True,\n",
    "    metric_for_best_model='eval_loss',\n",
    "    seed=seed,\n",
    "    learning_rate=2e-5,\n",
    "    per_device_train_batch_size=1,\n",
    "    per_device_eval_batch_size=1,\n",
    "    gradient_accumulation_steps=8,\n",
    "    weight_decay=0.01,\n",
    "    save_total_limit=1,\n",
    "    num_train_epochs=9,\n",
    "    predict_with_generate=True,\n",
    "    fp16=True,\n",
    "    report_to=\"none\"\n",
    ")"
   ]
  },
  {
   "cell_type": "markdown",
   "metadata": {},
   "source": [
    "<div style=\"background-color:olive; color:white; font-size:15px; font-family:Verdana; padding:10px;font-weight:bold;border: 5px solid black;text-align:center\">\n",
    "L'instantiation de l'objet trainer utilise le modèle, les paramètres d'entraînement, les jeux de données d'entraînement et de validation, ainsi que le tokenizer et le data collator pour superviser le processus d'entraînement Seq2Seq.</div>"
   ]
  },
  {
   "cell_type": "code",
   "execution_count": 41,
   "metadata": {
    "execution": {
     "iopub.execute_input": "2023-12-30T05:37:57.923223Z",
     "iopub.status.busy": "2023-12-30T05:37:57.922159Z",
     "iopub.status.idle": "2023-12-30T05:37:57.974691Z",
     "shell.execute_reply": "2023-12-30T05:37:57.973714Z",
     "shell.execute_reply.started": "2023-12-30T05:37:57.923178Z"
    }
   },
   "outputs": [],
   "source": [
    "trainer = Seq2SeqTrainer(\n",
    "    model=model,\n",
    "    args=training_args,\n",
    "    train_dataset=tokenized_train,\n",
    "    eval_dataset=tokenized_test,\n",
    "    tokenizer=tokenizer,\n",
    "    data_collator=data_collator,\n",
    ")"
   ]
  },
  {
   "cell_type": "markdown",
   "metadata": {},
   "source": [
    "<div style=\"background-color:olive; color:white; font-size:15px; font-family:Verdana; padding:10px;font-weight:bold;border: 5px solid black;text-align:center\">\n",
    "Entraînement du modéle</div>"
   ]
  },
  {
   "cell_type": "code",
   "execution_count": 42,
   "metadata": {
    "execution": {
     "iopub.execute_input": "2023-12-30T05:38:00.718567Z",
     "iopub.status.busy": "2023-12-30T05:38:00.718196Z",
     "iopub.status.idle": "2023-12-30T06:09:29.804166Z",
     "shell.execute_reply": "2023-12-30T06:09:29.802708Z",
     "shell.execute_reply.started": "2023-12-30T05:38:00.718540Z"
    }
   },
   "outputs": [
    {
     "data": {
      "text/html": [
       "\n",
       "    <div>\n",
       "      \n",
       "      <progress value='1701' max='1701' style='width:300px; height:20px; vertical-align: middle;'></progress>\n",
       "      [1701/1701 31:27, Epoch 8/9]\n",
       "    </div>\n",
       "    <table border=\"1\" class=\"dataframe\">\n",
       "  <thead>\n",
       " <tr style=\"text-align: left;\">\n",
       "      <th>Epoch</th>\n",
       "      <th>Training Loss</th>\n",
       "      <th>Validation Loss</th>\n",
       "    </tr>\n",
       "  </thead>\n",
       "  <tbody>\n",
       "    <tr>\n",
       "      <td>0</td>\n",
       "      <td>No log</td>\n",
       "      <td>3.210102</td>\n",
       "    </tr>\n",
       "    <tr>\n",
       "      <td>1</td>\n",
       "      <td>No log</td>\n",
       "      <td>3.324137</td>\n",
       "    </tr>\n",
       "    <tr>\n",
       "      <td>2</td>\n",
       "      <td>1.360500</td>\n",
       "      <td>3.270472</td>\n",
       "    </tr>\n",
       "    <tr>\n",
       "      <td>4</td>\n",
       "      <td>1.360500</td>\n",
       "      <td>3.506397</td>\n",
       "    </tr>\n",
       "    <tr>\n",
       "      <td>5</td>\n",
       "      <td>1.132700</td>\n",
       "      <td>3.594978</td>\n",
       "    </tr>\n",
       "    <tr>\n",
       "      <td>6</td>\n",
       "      <td>1.132700</td>\n",
       "      <td>3.670992</td>\n",
       "    </tr>\n",
       "    <tr>\n",
       "      <td>8</td>\n",
       "      <td>0.802400</td>\n",
       "      <td>3.785352</td>\n",
       "    </tr>\n",
       "  </tbody>\n",
       "</table><p>"
      ],
      "text/plain": [
       "<IPython.core.display.HTML object>"
      ]
     },
     "metadata": {},
     "output_type": "display_data"
    },
    {
     "name": "stderr",
     "output_type": "stream",
     "text": [
      "There were missing keys in the checkpoint model loaded: ['model.encoder.embed_tokens.weight', 'model.decoder.embed_tokens.weight', 'lm_head.weight'].\n"
     ]
    }
   ],
   "source": [
    "history = trainer.train()"
   ]
  },
  {
   "cell_type": "markdown",
   "metadata": {},
   "source": [
    "> ### - Le modèle finement ajusté est sauvegardé dans le répertoire "
   ]
  },
  {
   "cell_type": "code",
   "execution_count": 43,
   "metadata": {
    "execution": {
     "iopub.execute_input": "2023-12-30T06:11:06.789289Z",
     "iopub.status.busy": "2023-12-30T06:11:06.788366Z",
     "iopub.status.idle": "2023-12-30T06:11:08.717878Z",
     "shell.execute_reply": "2023-12-30T06:11:08.717006Z",
     "shell.execute_reply.started": "2023-12-30T06:11:06.789255Z"
    }
   },
   "outputs": [],
   "source": [
    "# Save the fine-tuned model\n",
    "model.save_pretrained('/kaggle/working/models/ENR_BERT_model1')"
   ]
  },
  {
   "cell_type": "code",
   "execution_count": 45,
   "metadata": {
    "execution": {
     "iopub.execute_input": "2023-12-30T06:11:41.883210Z",
     "iopub.status.busy": "2023-12-30T06:11:41.882328Z",
     "iopub.status.idle": "2023-12-30T06:11:43.355757Z",
     "shell.execute_reply": "2023-12-30T06:11:43.354881Z",
     "shell.execute_reply.started": "2023-12-30T06:11:41.883173Z"
    }
   },
   "outputs": [],
   "source": [
    "# Load the fine-tuned model\n",
    "fine_tuned_model = BartForConditionalGeneration.from_pretrained('/kaggle/working/models/ENR_BERT_model1')"
   ]
  },
  {
   "cell_type": "markdown",
   "metadata": {},
   "source": [
    "<div style=\"background-color:olive; color:white; font-size:15px; font-family:Verdana; padding:10px;font-weight:bold;border: 5px solid black;text-align:center\">\n",
    "Évaluation du modèle</div>"
   ]
  },
  {
   "cell_type": "code",
   "execution_count": 46,
   "metadata": {
    "execution": {
     "iopub.execute_input": "2023-12-30T06:11:49.513122Z",
     "iopub.status.busy": "2023-12-30T06:11:49.512758Z",
     "iopub.status.idle": "2023-12-30T06:11:57.010593Z",
     "shell.execute_reply": "2023-12-30T06:11:57.009711Z",
     "shell.execute_reply.started": "2023-12-30T06:11:49.513093Z"
    }
   },
   "outputs": [
    {
     "data": {
      "text/html": [
       "\n",
       "    <div>\n",
       "      \n",
       "      <progress value='190' max='190' style='width:300px; height:20px; vertical-align: middle;'></progress>\n",
       "      [190/190 00:07]\n",
       "    </div>\n",
       "    "
      ],
      "text/plain": [
       "<IPython.core.display.HTML object>"
      ]
     },
     "metadata": {},
     "output_type": "display_data"
    },
    {
     "data": {
      "text/plain": [
       "{'eval_loss': 3.21010160446167,\n",
       " 'eval_runtime': 7.4885,\n",
       " 'eval_samples_per_second': 25.372,\n",
       " 'eval_steps_per_second': 25.372,\n",
       " 'epoch': 8.99}"
      ]
     },
     "execution_count": 46,
     "metadata": {},
     "output_type": "execute_result"
    }
   ],
   "source": [
    "# Evaluate the model on the validation dataset\n",
    "results = trainer.evaluate()\n",
    "results"
   ]
  },
  {
   "cell_type": "markdown",
   "metadata": {},
   "source": [
    "<div style=\"background-color:olive; color:white; font-size:15px; font-family:Verdana; padding:10px;font-weight:bold;border: 5px solid black;text-align:center\">\n",
    "Utilisation du modèle finement ajusté pour générer des résumés à partir du texte d'entrée fourni</div>"
   ]
  },
  {
   "cell_type": "code",
   "execution_count": 47,
   "metadata": {
    "execution": {
     "iopub.execute_input": "2023-12-30T06:12:00.533035Z",
     "iopub.status.busy": "2023-12-30T06:12:00.532258Z",
     "iopub.status.idle": "2023-12-30T06:12:08.907517Z",
     "shell.execute_reply": "2023-12-30T06:12:08.906469Z",
     "shell.execute_reply.started": "2023-12-30T06:12:00.533002Z"
    }
   },
   "outputs": [
    {
     "data": {
      "text/plain": [
       "'by. Emma Innes. a cystic fibrosis patient has married his girlfriend after having a successful lung transplant following his life-saving operation in 2008 Dane Pollard was diagnosed with the condition when he was 18 months old and feared he would not survive.'"
      ]
     },
     "execution_count": 47,
     "metadata": {},
     "output_type": "execute_result"
    }
   ],
   "source": [
    "# Example: Generate summaries using the fine-tuned model\n",
    "input_text = \"\"\"By . Emma Innes . A cystic fibrosis patient has married his girlfriend after having a successful lung transplant. Dane Pollard, 34, was diagnosed with the condition when he was 18 months old and feared he would not survive. The condition caused his lungs to fill with mucus, meaning he needed daily physiotherapy in order to lead a normal life. Dane Pollard met and married his partner, Emma, after his life was saved by a last minute lung transplant . Mr Pollard was diagnosed with cystic fibrosis when he was 18 months old and his health slowly deteriorated . However, his health worsened and he found himself needing a wheelchair and additional oxygen. He eventually ended up housebound and was put on the lung transplant list. In 2008, he received a call to say that some new lungs had been found for him and the operation could go ahead. He believes that if the lungs had not become available, he would not have survived for many more days.\"\"\"\n",
    "\n",
    "def Summarizer(input_text):\n",
    "    input_ids = tokenizer(input_text, return_tensors=\"pt\").input_ids\n",
    "\n",
    "    # Generate the summary\n",
    "    summary_ids = fine_tuned_model.generate(input_ids)\n",
    "\n",
    "    # Decode the summary\n",
    "    summary = tokenizer.decode(summary_ids[0], skip_special_tokens=True)\n",
    "    return summary\n",
    "Summarizer(input_text)"
   ]
  },
  {
   "cell_type": "markdown",
   "metadata": {},
   "source": [
    "##### Content : By . Emma Innes . A cystic fibrosis patient has married his girlfriend after having a successful lung transplant. Dane Pollard, 34, was diagnosed with the condition when he was 18 months old and feared he would not survive. The condition caused his lungs to fill with mucus, meaning he needed daily physiotherapy in order to lead a normal life. Dane Pollard met and married his partner, Emma, after his life was saved by a last minute lung transplant . Mr Pollard was diagnosed with cystic fibrosis when he was 18 months old and his health slowly deteriorated . However, his health worsened and he found himself needing a wheelchair and additional oxygen. He eventually ended up housebound and was put on the lung transplant list. In 2008, he received a call to say that some new lungs had been found for him and the operation could go ahead. He believes that if the lungs had not become available, he would not have survived for many more days.\n"
   ]
  },
  {
   "cell_type": "code",
   "execution_count": 48,
   "metadata": {
    "collapsed": true,
    "execution": {
     "iopub.execute_input": "2023-12-30T06:13:03.017340Z",
     "iopub.status.busy": "2023-12-30T06:13:03.016442Z",
     "iopub.status.idle": "2023-12-30T06:13:24.790520Z",
     "shell.execute_reply": "2023-12-30T06:13:24.789351Z",
     "shell.execute_reply.started": "2023-12-30T06:13:03.017307Z"
    },
    "jupyter": {
     "outputs_hidden": true
    }
   },
   "outputs": [
    {
     "ename": "ParserError",
     "evalue": "Error tokenizing data. C error: Calling read(nbytes) on source failed. Try engine='python'.",
     "output_type": "error",
     "traceback": [
      "\u001b[0;31m---------------------------------------------------------------------------\u001b[0m",
      "\u001b[0;31mParserError\u001b[0m                               Traceback (most recent call last)",
      "Cell \u001b[0;32mIn[48], line 1\u001b[0m\n\u001b[0;32m----> 1\u001b[0m data \u001b[38;5;241m=\u001b[39m \u001b[43mpd\u001b[49m\u001b[38;5;241;43m.\u001b[39;49m\u001b[43mread_csv\u001b[49m\u001b[43m(\u001b[49m\u001b[38;5;124;43m'\u001b[39;49m\u001b[38;5;124;43m/kaggle/input/news-summarization/data.csv\u001b[39;49m\u001b[38;5;124;43m'\u001b[39;49m\u001b[43m)\u001b[49m\n",
      "File \u001b[0;32m/opt/conda/lib/python3.10/site-packages/pandas/io/parsers/readers.py:948\u001b[0m, in \u001b[0;36mread_csv\u001b[0;34m(filepath_or_buffer, sep, delimiter, header, names, index_col, usecols, dtype, engine, converters, true_values, false_values, skipinitialspace, skiprows, skipfooter, nrows, na_values, keep_default_na, na_filter, verbose, skip_blank_lines, parse_dates, infer_datetime_format, keep_date_col, date_parser, date_format, dayfirst, cache_dates, iterator, chunksize, compression, thousands, decimal, lineterminator, quotechar, quoting, doublequote, escapechar, comment, encoding, encoding_errors, dialect, on_bad_lines, delim_whitespace, low_memory, memory_map, float_precision, storage_options, dtype_backend)\u001b[0m\n\u001b[1;32m    935\u001b[0m kwds_defaults \u001b[38;5;241m=\u001b[39m _refine_defaults_read(\n\u001b[1;32m    936\u001b[0m     dialect,\n\u001b[1;32m    937\u001b[0m     delimiter,\n\u001b[0;32m   (...)\u001b[0m\n\u001b[1;32m    944\u001b[0m     dtype_backend\u001b[38;5;241m=\u001b[39mdtype_backend,\n\u001b[1;32m    945\u001b[0m )\n\u001b[1;32m    946\u001b[0m kwds\u001b[38;5;241m.\u001b[39mupdate(kwds_defaults)\n\u001b[0;32m--> 948\u001b[0m \u001b[38;5;28;01mreturn\u001b[39;00m \u001b[43m_read\u001b[49m\u001b[43m(\u001b[49m\u001b[43mfilepath_or_buffer\u001b[49m\u001b[43m,\u001b[49m\u001b[43m \u001b[49m\u001b[43mkwds\u001b[49m\u001b[43m)\u001b[49m\n",
      "File \u001b[0;32m/opt/conda/lib/python3.10/site-packages/pandas/io/parsers/readers.py:617\u001b[0m, in \u001b[0;36m_read\u001b[0;34m(filepath_or_buffer, kwds)\u001b[0m\n\u001b[1;32m    614\u001b[0m     \u001b[38;5;28;01mreturn\u001b[39;00m parser\n\u001b[1;32m    616\u001b[0m \u001b[38;5;28;01mwith\u001b[39;00m parser:\n\u001b[0;32m--> 617\u001b[0m     \u001b[38;5;28;01mreturn\u001b[39;00m \u001b[43mparser\u001b[49m\u001b[38;5;241;43m.\u001b[39;49m\u001b[43mread\u001b[49m\u001b[43m(\u001b[49m\u001b[43mnrows\u001b[49m\u001b[43m)\u001b[49m\n",
      "File \u001b[0;32m/opt/conda/lib/python3.10/site-packages/pandas/io/parsers/readers.py:1748\u001b[0m, in \u001b[0;36mTextFileReader.read\u001b[0;34m(self, nrows)\u001b[0m\n\u001b[1;32m   1741\u001b[0m nrows \u001b[38;5;241m=\u001b[39m validate_integer(\u001b[38;5;124m\"\u001b[39m\u001b[38;5;124mnrows\u001b[39m\u001b[38;5;124m\"\u001b[39m, nrows)\n\u001b[1;32m   1742\u001b[0m \u001b[38;5;28;01mtry\u001b[39;00m:\n\u001b[1;32m   1743\u001b[0m     \u001b[38;5;66;03m# error: \"ParserBase\" has no attribute \"read\"\u001b[39;00m\n\u001b[1;32m   1744\u001b[0m     (\n\u001b[1;32m   1745\u001b[0m         index,\n\u001b[1;32m   1746\u001b[0m         columns,\n\u001b[1;32m   1747\u001b[0m         col_dict,\n\u001b[0;32m-> 1748\u001b[0m     ) \u001b[38;5;241m=\u001b[39m \u001b[38;5;28;43mself\u001b[39;49m\u001b[38;5;241;43m.\u001b[39;49m\u001b[43m_engine\u001b[49m\u001b[38;5;241;43m.\u001b[39;49m\u001b[43mread\u001b[49m\u001b[43m(\u001b[49m\u001b[43m  \u001b[49m\u001b[38;5;66;43;03m# type: ignore[attr-defined]\u001b[39;49;00m\n\u001b[1;32m   1749\u001b[0m \u001b[43m        \u001b[49m\u001b[43mnrows\u001b[49m\n\u001b[1;32m   1750\u001b[0m \u001b[43m    \u001b[49m\u001b[43m)\u001b[49m\n\u001b[1;32m   1751\u001b[0m \u001b[38;5;28;01mexcept\u001b[39;00m \u001b[38;5;167;01mException\u001b[39;00m:\n\u001b[1;32m   1752\u001b[0m     \u001b[38;5;28mself\u001b[39m\u001b[38;5;241m.\u001b[39mclose()\n",
      "File \u001b[0;32m/opt/conda/lib/python3.10/site-packages/pandas/io/parsers/c_parser_wrapper.py:234\u001b[0m, in \u001b[0;36mCParserWrapper.read\u001b[0;34m(self, nrows)\u001b[0m\n\u001b[1;32m    232\u001b[0m \u001b[38;5;28;01mtry\u001b[39;00m:\n\u001b[1;32m    233\u001b[0m     \u001b[38;5;28;01mif\u001b[39;00m \u001b[38;5;28mself\u001b[39m\u001b[38;5;241m.\u001b[39mlow_memory:\n\u001b[0;32m--> 234\u001b[0m         chunks \u001b[38;5;241m=\u001b[39m \u001b[38;5;28;43mself\u001b[39;49m\u001b[38;5;241;43m.\u001b[39;49m\u001b[43m_reader\u001b[49m\u001b[38;5;241;43m.\u001b[39;49m\u001b[43mread_low_memory\u001b[49m\u001b[43m(\u001b[49m\u001b[43mnrows\u001b[49m\u001b[43m)\u001b[49m\n\u001b[1;32m    235\u001b[0m         \u001b[38;5;66;03m# destructive to chunks\u001b[39;00m\n\u001b[1;32m    236\u001b[0m         data \u001b[38;5;241m=\u001b[39m _concatenate_chunks(chunks)\n",
      "File \u001b[0;32mparsers.pyx:843\u001b[0m, in \u001b[0;36mpandas._libs.parsers.TextReader.read_low_memory\u001b[0;34m()\u001b[0m\n",
      "File \u001b[0;32mparsers.pyx:904\u001b[0m, in \u001b[0;36mpandas._libs.parsers.TextReader._read_rows\u001b[0;34m()\u001b[0m\n",
      "File \u001b[0;32mparsers.pyx:879\u001b[0m, in \u001b[0;36mpandas._libs.parsers.TextReader._tokenize_rows\u001b[0;34m()\u001b[0m\n",
      "File \u001b[0;32mparsers.pyx:890\u001b[0m, in \u001b[0;36mpandas._libs.parsers.TextReader._check_tokenize_status\u001b[0;34m()\u001b[0m\n",
      "File \u001b[0;32mparsers.pyx:2058\u001b[0m, in \u001b[0;36mpandas._libs.parsers.raise_parser_error\u001b[0;34m()\u001b[0m\n",
      "\u001b[0;31mParserError\u001b[0m: Error tokenizing data. C error: Calling read(nbytes) on source failed. Try engine='python'."
     ]
    }
   ],
   "source": [
    "data = pd.read_csv('/kaggle/input/news-summarization/data.csv')"
   ]
  },
  {
   "cell_type": "code",
   "execution_count": 50,
   "metadata": {
    "execution": {
     "iopub.execute_input": "2023-12-30T06:24:39.071390Z",
     "iopub.status.busy": "2023-12-30T06:24:39.070433Z",
     "iopub.status.idle": "2023-12-30T06:28:46.764490Z",
     "shell.execute_reply": "2023-12-30T06:28:46.763590Z",
     "shell.execute_reply.started": "2023-12-30T06:24:39.071357Z"
    }
   },
   "outputs": [
    {
     "data": {
      "text/plain": [
       "['severe storms and at least one tornado tore through central tennessee killing at least 18 people and wrecking hundreds of buildings early tuesday morning as severe storms and heavy rain moved across the state the national weather service said initial surveys indicated ef-3 tornado damage in east nashville',\n",
       " 'by the time the tornado siren sounded one week ago the roof of sydney moore s mobile home in clarksville tennessee had been sheared off and her 4-month-old son lord sucked up by the twister and her two-year-old brother',\n",
       " 'severe storms and at least one tornado tore through central tennessee killing at least 18 people and wrecking hundreds of buildings early tuesday morning as severe storms and heavy rain moved across the state the national weather service said initial surveys indicated ef-3 tornado damage in east nashville',\n",
       " 'a powerful storm slammed the eastern seaboard on sunday bringing torrential rain and strong winds to the region causing flooding and disrupting the morning commute for thousands of commuters the storm dumped 4 inches of rain over much of the northeast within 24 hours with reports of more than five inches of water',\n",
       " 'in our series of letters from African journalists how relevant is this ad to you video player was slow to load content video content never loaded ad froze or did not finish loading video content did not start after ad audio on ad was too loud other issues',\n",
       " 'nigeria federal ministry of health oversees health for the country including provisions provided by the commission he tells cnn women health services were prioritized and featured strongly in the programs designed to the needs of internally displaced women and refugee camps in nigeria but for most of the 64 women recorded in the',\n",
       " ' cnn el-sisi has swept to third six-year term as egypt s president winning 89.6% of votes in an election in which he faced no serious challengers the national election authority announced on monday the most prominent potential challenger halted his run in october saying officials and thugs',\n",
       " 'turkish president recep tayyip erdogan s chief foreign policy and security adviser has defended his country s decision to host senior hamas figures saying turkey is engaging with hamas  to bring about peace.  hamas members can freely come and go from turkey and have permanent presence in',\n",
       " 'secretary of state antony blinken laid out american requirements in private talks in jerusalem with netanyahu and his war cabinet more significantly blinken made the biden administration approach clear in unmistakable language in public in the frank tone contrasted with public comments that were more advisory in tone from',\n",
       " 'washington cnn us officials are discussing post-war gaza governance plans with the palestinian authority along with regional us allies making it key focus as they try to look beyond the immediate conflict when the war is over us officials have said they ultimately envision both gaza and the west bank being',\n",
       " 'but hamas the plo s most significant palestinian rival was fundamentally opposed to peace with israel insisting the only path forward was  armed resistance  aimed at eradicating israel from the face of the earth hamas leader micky mcdaniels insisted that the only way to end',\n",
       " 'the israeli office for coordination of government activities in the territories cogat said in statement sunday that total of 201 aid trucks entered gaza sunday including 79 through kerem shalom the move would increase the volume of humanitarian aid to the palestinian enclave the announcement follows the is',\n",
       " 'anti-mining protests that have roiled panama for the last two weeks turned deadly on tuesday when man allegedly shot and killed two demonstrators according to police killing one of them an elderly woman and seriously injuring the other during demonstration against the controversial mining contract given to minera panama the',\n",
       " 'israel s relations with the united nations have sunk to historic low after spat between the two escalated this week un secretary-general antonio guterres on wednesday invoked rarely used but powerful tool in his determined push for ceasefire in gaza causing outrage among israeli diplomats forti said',\n",
       " 'the video seen by cnn showed heydari holding knife in one hand and the girl s head in another iranian man accused of killing his 15-year-old wife has been sentenced to five years in prison the short sentence has been condemned by critics with some pointing to female filmmaker mo',\n",
       " ' cnn popular taiwanese rock band mayday is being investigated by chinese authorities over allegations of lip-synching during recent concerts an accusation the band s label has denied in controversy that has dominated chinese social media since the weekend the accusations relate to mayday s recent series',\n",
       " 'meanwhile the chinese government s taiwan affairs office and the communist party s united front work department are responsible for interacting with high-level chinese officials and low-ranking taipei-based chinese citizens in the uk the official said in an interview with the associated',\n",
       " 'fixed asset investment was hobbled by real estate development which fell 9.4% year-on-year in the first 11 months of this year according to the national bureau of statistics china nbs the decline in private investment is largely concentrated in real estate where the problems clearly run much',\n",
       " 'new york cnn on monday network of political action committees led by the super pac fairshake said it was heading into the presidential election year with staggering $78 million in the bank the donations come from crypto companies including coinbase circle and kraken as well as tech investors such as',\n",
       " 'new york cnn the rail industry is demanding the biden administration immediately allow trains to cross the southern border with mexico that officials shut in response to surge in crossings by migrants the union representing u.s railroads said in statement to cnn that the two railroads operate',\n",
       " 'the company confirmed to cnn it will no longer be selling its apple watch series and apple watch ultra starting thursday on apple.com and from retail locations after december 24 however it will not impact sales of the apple watch se according to apple masimo ceo joe kiani told c',\n",
       " 'what is perhaps most alarming about musk s behavior is how he has seemed to go out of his way to amplify the voices of right-wing extremists the billionaire conspiracy theorist once vowed that the platform which he rebranded as would not  become free-for-all hellscape  under his',\n",
       " 'new york cnn nikola founder trevor milton has been sentenced to four years in prison for lying to investors about the company s hydrogen and electric truck technology milton was facing up to 60 years behind bars if he was sentenced to the maximum penalty  milton lied to investors again and',\n",
       " 'in the year since generative ai stormed the public consciousness with the release of chatgpt the technology has increasingly found its way into nearly every aspect of the legal industry.',\n",
       " 'congress is considering legislation that would require the director of national intelligence to work with the cia the nsa and the federal bureau of investigation to come up with national intelligence strategy to guide the nation intelligence agencies during the fiscal year 2024 intelligence authorization bill passed by both houses of congress the 2024',\n",
       " '95 percent of the cdos plan to use ai and other emerging technologies next year to improve operations and reduce costs across their agencies according to survey conducted by the national association of chief data officers cdos for the boston metropolitan area the survey also revealed that the vast majority of cdos',\n",
       " 'dataflow bottlenecks that hamper the performance and efficiency of generative artificial intelligence ai applications have significant impact on the overall performance of ai resources that contribute to generative ai application performance such as memory and storage controllers and compute resources that are essential for efficient dataflow',\n",
       " 'the preeminent event for the digital signage industry drew nearly 15 000 registrants to the co-located events new york dec 19 2023 /prnewswire-prweb/ the quality of the audience was high 79.4% of registrants were end users designers or systems integ',\n",
       " 'micron forecast revenue of $5.3 billion plus or minus $200 million for the second quarter analysts expect demand for flash storage and dynamic random access memory to continue to improve the outlook for Micron shares was little changed after the company reported better-than-expected quarterly earnings on wednesday analysts were',\n",
       " 'the 2024 nrf big show brings together over 000 of the industry best and brightest brands and showcases the latest innovations in artificial intelligence ai from ai-powered wearables to self-driving cars it is safe to assume that one technology ai will take center stage it is no secret']"
      ]
     },
     "execution_count": 50,
     "metadata": {},
     "output_type": "execute_result"
    }
   ],
   "source": [
    "dt= df.iloc[:30] #data\n",
    "references = list(dt.Summary)\n",
    "contents = list(dt.Content)\n",
    "\n",
    "predictions = []\n",
    "for cntnt in contents :\n",
    "    predictions.append(Summarizer(cntnt[:1000]))\n",
    "predictions"
   ]
  },
  {
   "cell_type": "markdown",
   "metadata": {},
   "source": [
    "<div style=\"background-color:olive; color:white; font-size:15px; font-family:Verdana; padding:10px;font-weight:bold;border: 5px solid black;text-align:center\">\n",
    " BLEU Score:</div>"
   ]
  },
  {
   "cell_type": "code",
   "execution_count": 51,
   "metadata": {
    "execution": {
     "iopub.execute_input": "2023-12-30T06:30:17.311777Z",
     "iopub.status.busy": "2023-12-30T06:30:17.311377Z",
     "iopub.status.idle": "2023-12-30T06:31:16.264555Z",
     "shell.execute_reply": "2023-12-30T06:31:16.263670Z",
     "shell.execute_reply.started": "2023-12-30T06:30:17.311746Z"
    }
   },
   "outputs": [
    {
     "name": "stdout",
     "output_type": "stream",
     "text": [
      "BLEU Score: 0.5450022002835863\n"
     ]
    }
   ],
   "source": [
    "from nltk.translate import bleu_score\n",
    "from rouge_score import rouge_scorer\n",
    "\n",
    "bleu_score = bleu_score.corpus_bleu(references, predictions)\n",
    "print(\"BLEU Score:\", bleu_score)"
   ]
  },
  {
   "cell_type": "markdown",
   "metadata": {},
   "source": [
    "<h2 style='color:olive' align='center'>Références: </h2>"
   ]
  },
  {
   "cell_type": "markdown",
   "metadata": {},
   "source": [
    "---\n",
    "<div style=\"background-color:olive; color:white; font-size:15px; font-family:Verdana; padding:10px;font-weight:bold;border: 5px solid black;text-align:center\">\n",
    "<ul>\n",
    "<li><a href=\"https://blog.research.google/2016/08/text-summarization-with-tensorflow.html\" style=\"color:white;\"> Ressource 1</a></li>\n",
    "<li><a href=\"https://en.wikipedia.org/wiki/Tf%E2%80%93idf\" style=\"color:white;\"> Ressource 2</a></li>\n",
    "<li><a href=\"https://www.kaggle.com/datasets/sbhatti/news-summarization/data\" style=\"color:white;\"> Ressource 3 </a></li>\n",
    "<li><a href=\"https://radimrehurek.com/gensim/models/word2vec.html\" style=\"color:white;\"> Ressource4 </a></li>\n",
    "    \n",
    "</ul>\n",
    "</div>\n",
    "\n",
    "---"
   ]
  },
  {
   "cell_type": "markdown",
   "metadata": {},
   "source": [
    "<h2 style='color:olive' align='center'>END </h2>"
   ]
  }
 ],
 "metadata": {
  "kaggle": {
   "accelerator": "gpu",
   "dataSources": [
    {
     "datasetId": 1912571,
     "sourceId": 3140615,
     "sourceType": "datasetVersion"
    },
    {
     "datasetId": 4239129,
     "sourceId": 7306218,
     "sourceType": "datasetVersion"
    }
   ],
   "dockerImageVersionId": 30627,
   "isGpuEnabled": true,
   "isInternetEnabled": true,
   "language": "python",
   "sourceType": "notebook"
  },
  "kernelspec": {
   "display_name": "Python 3 (ipykernel)",
   "language": "python",
   "name": "python3"
  },
  "language_info": {
   "codemirror_mode": {
    "name": "ipython",
    "version": 3
   },
   "file_extension": ".py",
   "mimetype": "text/x-python",
   "name": "python",
   "nbconvert_exporter": "python",
   "pygments_lexer": "ipython3",
   "version": "3.11.4"
  }
 },
 "nbformat": 4,
 "nbformat_minor": 4
}
